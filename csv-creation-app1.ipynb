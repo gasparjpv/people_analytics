{
 "cells": [
  {
   "cell_type": "code",
   "execution_count": 4,
   "metadata": {},
   "outputs": [],
   "source": [
    "import pandas as pd\n",
    "import dash\n",
    "import plotly.express as px\n",
    "import numpy as np"
   ]
  },
  {
   "cell_type": "code",
   "execution_count": 5,
   "metadata": {},
   "outputs": [],
   "source": [
    "# Leia o arquivo CSV e especifique os valores que devem ser considerados como NaN\n",
    "df = pd.read_csv('pnead_dividido2.csv', dtype=str, na_values=['', ' ', 'NaN', None])\n",
    "# Substitua NaN por valores em branco\n",
    "df.fillna('', inplace=True)"
   ]
  },
  {
   "cell_type": "code",
   "execution_count": 6,
   "metadata": {},
   "outputs": [
    {
     "name": "stdout",
     "output_type": "stream",
     "text": [
      "0                Pessoa responsável\n",
      "1         Cônjuge ou companheiro(a)\n",
      "2                Pessoa responsável\n",
      "3                Pessoa responsável\n",
      "4                          Filho(a)\n",
      "                    ...            \n",
      "474570           Pessoa responsável\n",
      "474571    Cônjuge ou companheiro(a)\n",
      "474572           Pessoa responsável\n",
      "474573    Cônjuge ou companheiro(a)\n",
      "474574                   Enteado(a)\n",
      "Name: V2005, Length: 474575, dtype: object\n"
     ]
    }
   ],
   "source": [
    "#Condição no domicílio\n",
    "\n",
    "V2005_map = {\n",
    "    \"01\":\"Pessoa responsável\",\n",
    "    \"02\":\"Cônjuge ou companheiro(a)\",\n",
    "    \"03\":\"Cônjuge ou companheiro(a)\", \n",
    "    \"04\":\"Filho(a)\",\n",
    "    \"05\":\"Filho(a)\",\n",
    "    \"06\":\"Enteado(a)\",\n",
    "    \"07\":\"Genro ou nora\",\n",
    "    \"08\":\"Pai, mãe, padrasto ou madrasta\",\n",
    "    \"09\":\"Sogro(a)\",\n",
    "    \"10\":\"Neto(a)\",\n",
    "    \"11\":\"Bisneto(a)\",\n",
    "    \"12\":\"Irmão ou irmã\",\n",
    "    \"13\":\"Avô ou avó\",\n",
    "    \"14\":\"Outro parente\",\n",
    "    \"15\":\"Agregado(a)\",\n",
    "    \"16\":\"Convivente\",\n",
    "    \"17\":\"Pensionista\",\n",
    "    \"18\":\"Empregado(a) doméstico(a)\",\n",
    "    \"19\":\"Parente do(a) empregado(a) doméstico(a)\"\n",
    "}\n",
    "\n",
    "df['V2005'] = df['V2005'].map(V2005_map)\n",
    "\n",
    "print(df['V2005'])\n"
   ]
  },
  {
   "cell_type": "code",
   "execution_count": 7,
   "metadata": {},
   "outputs": [
    {
     "name": "stdout",
     "output_type": "stream",
     "text": [
      "0                 Rondônia\n",
      "1                 Rondônia\n",
      "2                 Rondônia\n",
      "3                 Rondônia\n",
      "4                 Rondônia\n",
      "                ...       \n",
      "474570    Distrito Federal\n",
      "474571    Distrito Federal\n",
      "474572    Distrito Federal\n",
      "474573    Distrito Federal\n",
      "474574    Distrito Federal\n",
      "Name: UF, Length: 474575, dtype: object\n"
     ]
    }
   ],
   "source": [
    "#Unidade da Federação\n",
    "UF_map = {\n",
    "    '11' : 'Rondônia',\n",
    "    '12' : 'Acre',\n",
    "    '13' : 'Amazonas',\n",
    "    '14' : 'Roraima',\n",
    "    '15' : 'Pará',\n",
    "    '16' : 'Amapá',\n",
    "    '17' : 'Tocantins',\n",
    "    '21' : 'Maranhão',\n",
    "    '22' : 'Piauí',\n",
    "    '23' : 'Ceará',\n",
    "    '24' : 'Rio Grande do Norte',\n",
    "    '25' : 'Paraíba',\n",
    "    '26' : 'Pernambuco',\n",
    "    '27' : 'Alagoas',\n",
    "    '28' : 'Sergipe',\n",
    "    '29' : 'Bahia',\n",
    "    '31' : 'Minas Gerais',\n",
    "    '32' : 'Espírito Santo',\n",
    "    '33' : 'Rio de Janeiro',\n",
    "    '35' : 'São Paulo',\n",
    "    '41' : 'Paraná',\n",
    "    '42' : 'Santa Catarina',\n",
    "    '43' : 'Rio Grande do Sul',\n",
    "    '50' : 'Mato Grosso do Sul',\n",
    "    '51' : 'Mato Grosso',\n",
    "    '52' : 'Goiás',\n",
    "    '53' : 'Distrito Federal'\n",
    "    }\n",
    "\n",
    "df['UF'] = df['UF'].map(UF_map)\n",
    "\n",
    "print(df['UF'])"
   ]
  },
  {
   "cell_type": "code",
   "execution_count": 8,
   "metadata": {},
   "outputs": [
    {
     "name": "stdout",
     "output_type": "stream",
     "text": [
      "0         Urbana\n",
      "1         Urbana\n",
      "2         Urbana\n",
      "3         Urbana\n",
      "4         Urbana\n",
      "           ...  \n",
      "474570    Urbana\n",
      "474571    Urbana\n",
      "474572    Urbana\n",
      "474573    Urbana\n",
      "474574    Urbana\n",
      "Name: V1022, Length: 474575, dtype: object\n"
     ]
    }
   ],
   "source": [
    "#V1008\t\tNúmero de seleção do domicílio / Número do domicílio\n",
    "#V1014\t\tPainel / Grupo de amostra\n",
    "#V1016\t\tNúmero da entrevista no domicílio / Número da entrevista (1 a 5)\n",
    "\n",
    "\n",
    "V1022_map = {\n",
    "    '1':'Urbana',\n",
    "    '2':'Rural'\n",
    "}\n",
    "df['V1022'] = df['V1022'].map(V1022_map)\n",
    "print(df['V1022'])"
   ]
  },
  {
   "cell_type": "code",
   "execution_count": 9,
   "metadata": {},
   "outputs": [
    {
     "name": "stdout",
     "output_type": "stream",
     "text": [
      "0         30\n",
      "1         29\n",
      "2         50\n",
      "3         25\n",
      "4          2\n",
      "          ..\n",
      "474570    38\n",
      "474571    30\n",
      "474572    51\n",
      "474573    56\n",
      "474574    18\n",
      "Name: V2009, Length: 474575, dtype: int64\n"
     ]
    }
   ],
   "source": [
    "#V2009 - Idade do morador na data de referência - Idade (em anos)\n",
    "\n",
    "df['V2009'] = df['V2009'].str.strip()  # Remover espaços em branco ao redor do valor\n",
    "df['V2009'] = df['V2009'].replace('', '0')  # Substituir valores vazios por zero\n",
    "df['V2009'] = df['V2009'].astype(int) \n",
    "print(df['V2009'])"
   ]
  },
  {
   "cell_type": "code",
   "execution_count": 10,
   "metadata": {},
   "outputs": [
    {
     "name": "stdout",
     "output_type": "stream",
     "text": [
      "0          Homem\n",
      "1         Mulher\n",
      "2         Mulher\n",
      "3         Mulher\n",
      "4         Mulher\n",
      "           ...  \n",
      "474570     Homem\n",
      "474571    Mulher\n",
      "474572     Homem\n",
      "474573    Mulher\n",
      "474574    Mulher\n",
      "Name: V2007, Length: 474575, dtype: object\n"
     ]
    }
   ],
   "source": [
    "\n",
    "#V2007 - Sexo\n",
    "\n",
    "V2007_map = {\n",
    "    '1':'Homem',\n",
    "    '2':'Mulher'\n",
    "}\n",
    "\n",
    "df['V2007'] = df['V2007'].map(V2007_map)\n",
    "\n",
    "print(df['V2007'])"
   ]
  },
  {
   "cell_type": "code",
   "execution_count": 11,
   "metadata": {},
   "outputs": [
    {
     "name": "stdout",
     "output_type": "stream",
     "text": [
      "0         Preta/Parda\n",
      "1         Preta/Parda\n",
      "2         Preta/Parda\n",
      "3         Preta/Parda\n",
      "4         Preta/Parda\n",
      "             ...     \n",
      "474570         Branca\n",
      "474571         Branca\n",
      "474572         Branca\n",
      "474573         Branca\n",
      "474574         Branca\n",
      "Name: V2010, Length: 474575, dtype: object\n"
     ]
    }
   ],
   "source": [
    "#Cor ou raça\n",
    "V2010_map = {\n",
    "    '1'\t:'Branca',\n",
    "    '2'\t:'Preta/Parda',\n",
    "    '3'\t:'Outros',\n",
    "    '4'\t:'Preta/Parda',\n",
    "    '5'\t:'Outros',\n",
    "    '9'\t:'Ignorado'\n",
    "}\n",
    "\n",
    "df['V2010'] = df['V2010'].map(V2010_map)\n",
    "\n",
    "print(df['V2010'])"
   ]
  },
  {
   "cell_type": "code",
   "execution_count": 12,
   "metadata": {},
   "outputs": [
    {
     "name": "stdout",
     "output_type": "stream",
     "text": [
      "0                   Sim\n",
      "1                   Sim\n",
      "2                   Sim\n",
      "3                   Sim\n",
      "4         Não aplicável\n",
      "              ...      \n",
      "474570              Sim\n",
      "474571              Sim\n",
      "474572              Sim\n",
      "474573              Sim\n",
      "474574              Sim\n",
      "Name: V3001, Length: 474575, dtype: object\n"
     ]
    }
   ],
   "source": [
    "#... sabe ler e escrever?\n",
    "\n",
    "V3001_map = {\n",
    "    '1':'Sim',\n",
    "    '2':'Não'\n",
    "}\n",
    "\n",
    "df['V3001'] = df['V3001'].map(V3001_map)\n",
    "df['V3001'].fillna('Não aplicável', inplace=True)\n",
    "\n",
    "print(df['V3001'])"
   ]
  },
  {
   "cell_type": "code",
   "execution_count": 13,
   "metadata": {},
   "outputs": [
    {
     "name": "stdout",
     "output_type": "stream",
     "text": [
      "0                   Não\n",
      "1                   Não\n",
      "2                   Não\n",
      "3                   Não\n",
      "4         Não aplicável\n",
      "              ...      \n",
      "474570              Não\n",
      "474571              Sim\n",
      "474572              Não\n",
      "474573              Não\n",
      "474574              Sim\n",
      "Name: V3002, Length: 474575, dtype: object\n"
     ]
    }
   ],
   "source": [
    "#... frequenta escola?\n",
    "\n",
    "V3002_map = {\n",
    "    '1':'Sim',\n",
    "    '2':'Não'\n",
    "}\n",
    "df['V3002'] = df['V3002'].map(V3002_map)\n",
    "df['V3002'].fillna('Não aplicável', inplace=True)\n",
    "\n",
    "print(df['V3002'])\n"
   ]
  },
  {
   "cell_type": "code",
   "execution_count": 14,
   "metadata": {},
   "outputs": [
    {
     "name": "stdout",
     "output_type": "stream",
     "text": [
      "0         Não aplicável\n",
      "1         Não aplicável\n",
      "2         Não aplicável\n",
      "3         Não aplicável\n",
      "4         Não aplicável\n",
      "              ...      \n",
      "474570    Não aplicável\n",
      "474571     Rede privada\n",
      "474572    Não aplicável\n",
      "474573    Não aplicável\n",
      "474574     Rede pública\n",
      "Name: V3002A, Length: 474575, dtype: object\n"
     ]
    }
   ],
   "source": [
    "#A escola que ... frequenta é de\n",
    "\n",
    "V3002A_map = {\n",
    "    '1':'Rede privada',\n",
    "    '2':'Rede pública'\n",
    "}\n",
    "df['V3002A'] = df['V3002A'].map(V3002A_map)\n",
    "df['V3002A'].fillna('Não aplicável', inplace=True)\n",
    "\n",
    "print(df['V3002A'])\n"
   ]
  },
  {
   "cell_type": "code",
   "execution_count": 15,
   "metadata": {},
   "outputs": [
    {
     "name": "stdout",
     "output_type": "stream",
     "text": [
      "0         Não aplicável\n",
      "1         Não aplicável\n",
      "2         Não aplicável\n",
      "3         Não aplicável\n",
      "4         Não aplicável\n",
      "              ...      \n",
      "474570    Não aplicável\n",
      "474571        Doutorado\n",
      "474572    Não aplicável\n",
      "474573    Não aplicável\n",
      "474574         Mestrado\n",
      "Name: V3003A, Length: 474575, dtype: object\n"
     ]
    }
   ],
   "source": [
    "#Qual é o curso que ... frequenta?\n",
    "\n",
    "V3003A_map = {\n",
    "    '01':'Pré-escolar (maternal e jardim de infância)',\n",
    "    '02':'Alfabetização de jovens e adultos',\n",
    "    '03':'Regular do ensino fundamental ',\n",
    "    '04':'Educação de jovens e adultos (EJA) ou supletivo do ensino fundamental',\n",
    "    '05':'Regular do ensino médio ',\n",
    "    '06':'Educação de jovens e adultos (EJA) ou supletivo do ensino médio',\n",
    "    '07':'Superior - graduação',\n",
    "    '08':'Mestrado',\n",
    "    '09':'Doutorado'\n",
    "}\n",
    "\n",
    "\n",
    "df['V3003A'] = df['V3003A'].map(V3003A_map)\n",
    "df['V3003A'].fillna('Não aplicável', inplace=True)\n",
    "\n",
    "print(df['V3003A'])"
   ]
  },
  {
   "cell_type": "code",
   "execution_count": 16,
   "metadata": {},
   "outputs": [
    {
     "name": "stdout",
     "output_type": "stream",
     "text": [
      "0                   Sim\n",
      "1                   Não\n",
      "2                   Sim\n",
      "3                   Não\n",
      "4         Não aplicável\n",
      "              ...      \n",
      "474570              Sim\n",
      "474571              Sim\n",
      "474572              Sim\n",
      "474573              Sim\n",
      "474574              Não\n",
      "Name: V4001, Length: 474575, dtype: object\n"
     ]
    }
   ],
   "source": [
    "#Parte 4 - Características de trabalho das pessoas de 14 anos ou mais de idade\t\t\t\n",
    "#Na semana de ... a ... (semana de referência), ... trabalhou ou estagiou, durante pelo menos 1 hora, em alguma atividade remunerada em dinheiro?\n",
    "V4001_map = {\n",
    "    '1':'Sim',\n",
    "    '2':'Não'\n",
    "}\n",
    "\n",
    "df['V4001']=df['V4001'].map(V4001_map)\n",
    "df['V4001'].fillna('Não aplicável', inplace=True)\n",
    "\t\n",
    "print(df['V4001'])\n",
    "\n",
    "\n",
    "\n"
   ]
  },
  {
   "cell_type": "code",
   "execution_count": 17,
   "metadata": {},
   "outputs": [
    {
     "name": "stdout",
     "output_type": "stream",
     "text": [
      "0         Não aplicável\n",
      "1                   Não\n",
      "2         Não aplicável\n",
      "3                   Não\n",
      "4         Não aplicável\n",
      "              ...      \n",
      "474570    Não aplicável\n",
      "474571    Não aplicável\n",
      "474572    Não aplicável\n",
      "474573    Não aplicável\n",
      "474574              Não\n",
      "Name: V4002, Length: 474575, dtype: object\n"
     ]
    }
   ],
   "source": [
    "#Na semana de ... a ... (semana de referência), ... trabalhou ou estagiou, durante pelo menos 1 hora, em alguma atividade remunerada em produtos, mercadorias, moradia, alimentação, etc.?\n",
    "\n",
    "V4002_map = {\n",
    "    '1':'Sim',\n",
    "    '2':'Não'\n",
    "}\n",
    "\n",
    "df['V4002']=df['V4002'].map(V4002_map)\n",
    "df['V4002'].fillna('Não aplicável', inplace=True)\n",
    "\t\n",
    "print(df['V4002'])\n",
    "\n"
   ]
  },
  {
   "cell_type": "code",
   "execution_count": 18,
   "metadata": {},
   "outputs": [
    {
     "name": "stdout",
     "output_type": "stream",
     "text": [
      "0         Não aplicável\n",
      "1                   Não\n",
      "2         Não aplicável\n",
      "3                   Não\n",
      "4         Não aplicável\n",
      "              ...      \n",
      "474570    Não aplicável\n",
      "474571    Não aplicável\n",
      "474572    Não aplicável\n",
      "474573    Não aplicável\n",
      "474574              Não\n",
      "Name: V4003, Length: 474575, dtype: object\n"
     ]
    }
   ],
   "source": [
    "#Na semana de ... a ... (semana de referência), ... fez algum bico ou trabalhou em alguma atividade ocasional remunerada durante pelo menos 1 hora?  \n",
    "\n",
    "V4003_map = {\n",
    "    '1':'Sim',\n",
    "    '2':'Não'\n",
    "}\n",
    "\n",
    "df['V4003']=df['V4003'].map(V4003_map)\n",
    "df['V4003'].fillna('Não aplicável', inplace=True)\n",
    "\t\n",
    "print(df['V4003'])\n"
   ]
  },
  {
   "cell_type": "code",
   "execution_count": 19,
   "metadata": {},
   "outputs": [
    {
     "name": "stdout",
     "output_type": "stream",
     "text": [
      "0         Não aplicável\n",
      "1                   Não\n",
      "2         Não aplicável\n",
      "3                   Não\n",
      "4         Não aplicável\n",
      "              ...      \n",
      "474570    Não aplicável\n",
      "474571    Não aplicável\n",
      "474572    Não aplicável\n",
      "474573    Não aplicável\n",
      "474574              Não\n",
      "Name: V4004, Length: 474575, dtype: object\n"
     ]
    }
   ],
   "source": [
    "#Na semana de ... a ... (semana de referência), ... ajudou durante pelo menos 1 hora, sem receber pagamento, no trabalho remunerado de algum morador do domicílio ou de parente?\n",
    "\n",
    "\n",
    "V4004_map = {\n",
    "    '1':'Sim',\n",
    "    '2':'Não'\n",
    "}\n",
    "\n",
    "df['V4004']=df['V4004'].map(V4003_map)\n",
    "df['V4004'].fillna('Não aplicável', inplace=True)\n",
    "\t\n",
    "print(df['V4004'])\n"
   ]
  },
  {
   "cell_type": "code",
   "execution_count": 20,
   "metadata": {},
   "outputs": [
    {
     "name": "stdout",
     "output_type": "stream",
     "text": [
      "0         Não aplicável\n",
      "1                   Não\n",
      "2         Não aplicável\n",
      "3                   Não\n",
      "4         Não aplicável\n",
      "              ...      \n",
      "474570    Não aplicável\n",
      "474571    Não aplicável\n",
      "474572    Não aplicável\n",
      "474573    Não aplicável\n",
      "474574              Não\n",
      "Name: V4005, Length: 474575, dtype: object\n"
     ]
    }
   ],
   "source": [
    "#Na semana de ... a ... (semana de referência), ... tinha algum trabalho remunerado do qual estava temporariamente afastado?\n",
    "\n",
    "V4005_map = {\n",
    "    '1':'Sim',\n",
    "    '2':'Não'\n",
    "}\n",
    "\n",
    "df['V4005']=df['V4005'].map(V4003_map)\n",
    "df['V4005'].fillna('Não aplicável', inplace=True)\n",
    "\t\n",
    "print(df['V4005'])"
   ]
  },
  {
   "cell_type": "code",
   "execution_count": 21,
   "metadata": {},
   "outputs": [
    {
     "name": "stdout",
     "output_type": "stream",
     "text": [
      "0         Não aplicável\n",
      "1         Não aplicável\n",
      "2         Não aplicável\n",
      "3         Não aplicável\n",
      "4         Não aplicável\n",
      "              ...      \n",
      "474570    Não aplicável\n",
      "474571    Não aplicável\n",
      "474572    Não aplicável\n",
      "474573    Não aplicável\n",
      "474574    Não aplicável\n",
      "Name: V4006A, Length: 474575, dtype: object\n"
     ]
    }
   ],
   "source": [
    "#Na semana de ... a .... (semana de referência), por que motivo ... estava afastado desse trabalho?\n",
    "\n",
    "V4006A_map = {\n",
    "    '1':'Férias, folga ou jornada de trabalho variável ',\n",
    "    '2':'Licença maternidade ou paternidade',\n",
    "    '3':'Licença remunerada por motivo de saúde ou acidente da própria pessoa',\n",
    "    '4':'Outro tipo de licença remunerada (estudo, casamento, licença prêmio, etc.) ',\n",
    "    '5':'Afastamento do próprio negócio/empresa por motivo de gestação, doença, acidente, etc., sem ser remunerado por instituto de previdência',\n",
    "    '6':'Fatores ocasionais (tempo, paralisação nos serviços de transportes, etc.)',\n",
    "    '7':'Outro motivo'\n",
    "}\n",
    "\n",
    "\n",
    "df['V4006A']=df['V4006A'].map(V4006A_map)\n",
    "df['V4006A'].fillna('Não aplicável', inplace=True)\n",
    "\n",
    "\n",
    "print(df['V4006A'])\n"
   ]
  },
  {
   "cell_type": "code",
   "execution_count": 22,
   "metadata": {},
   "outputs": [
    {
     "name": "stdout",
     "output_type": "stream",
     "text": [
      "df_cod_ocupa =  {'1111': 'Legisladores ', '1112': 'Dirigentes superiores da administração pública', '1113': 'Chefes de pequenas populações', '1114': 'Dirigentes de organizações que apresentam um interesse especial', '1120': 'Diretores gerais e gerentes gerais', '1211': 'Dirigentes financeiros', '1212': 'Dirigentes de recursos humanos', '1213': 'Dirigentes de políticas e planejamento', '1219': 'Dirigentes de administração e de serviços não classificados anteriormente', '1221': 'Dirigentes de vendas e  comercialização ', '1222': 'Dirigentes de publicidade e relações públicas', '1223': 'Dirigentes de pesquisa e desenvolvimento', '1311': 'Dirigentes de produção agropecuária e silvicultura', '1312': 'Dirigentes de produção da aquicultura e pesca', '1321': 'Dirigentes de indústria de transformação', '1322': 'Dirigentes de explorações de mineração', '1323': 'Dirigentes de empresas de construção', '1324': 'Dirigentes de empresas de abastecimento, distribuição e afins', '1330': 'Dirigentes de serviços de tecnologia da informação e comunicações', '1341': 'Dirigentes de serviços de cuidados infantis', '1342': 'Dirigentes de serviços de saúde', '1343': 'Dirigentes de serviços de cuidado a pessoas idosas', '1344': 'Dirigentes de serviços de bem-estar social', '1345': 'Dirigentes de serviços de educação', '1346': 'Gerentes de sucursais de bancos, de serviços financeiros e de seguros', '1349': 'Dirigentes e gerentes de serviços profissionais não classificados anteriormente', '1411': 'Gerentes de hotéis', '1412': 'Gerentes de restaurantes', '1420': 'Gerentes de comércios atacadistas e varejistas', '1431': 'Gerentes de centros esportivos,  de diversão e culturais', '1439': 'Gerentes de serviços não classificados anteriormente', '2111': 'Físicos e astrônomos', '2112': 'Meteorologistas', '2113': 'Químicos', '2114': 'Geólogos e geofísicos', '2120': 'Matemáticos, atuários e estatísticos', '2131': 'Biólogos, botânicos, zoólogos e afins', '2132': 'Agrônomos e afins', '2133': 'Profissionais da proteção do meio ambiente', '2141': 'Engenheiros industriais e de produção', '2142': 'Engenheiros civis ', '2143': 'Engenheiros de meio ambiente', '2144': 'Engenheiros mecânicos', '2145': 'Engenheiros químicos', '2146': 'Engenheiros de minas, metalúrgicos e afins', '2149': 'Engenheiros não classificados anteriormente', '2151': 'Engenheiros eletricistas', '2152': 'Engenheiros eletrônicos', '2153': 'Engenheiros em telecomunicações', '2161': 'Arquitetos de edificações', '2162': 'Arquitetos paisagistas', '2163': 'Desenhistas de produtos e  vestuário', '2164': 'Urbanistas e engenheiros de trânsito', '2165': 'Cartógrafos e agrimensores', '2166': 'Desenhistas gráficos e de multimídia', '2211': 'Médicos gerais', '2212': 'Médicos especialistas', '2221': 'Profissionais de enfermagem ', '2222': 'Profissionais de partos  ', '2230': 'Profissionais da medicina tradicional e alternativa', '2240': 'Paramédicos', '2250': 'Veterinários', '2261': 'Dentistas', '2262': 'Farmacêuticos', '2263': 'Profissionais da saúde e da higiene laboral e ambiental', '2264': 'Fisioterapeutas', '2265': 'Dietistas e nutricionistas', '2266': 'Fonoaudiólogos e logopedistas', '2267': 'Optometristas', '2269': 'Profissionais da saúde não classificados anteriormente', '2310': 'Professores de universidades e do ensino superior', '2320': 'Professores de formação profissional', '2330': 'Professores do ensino médio', '2341': 'Professores do ensino fundamental', '2342': 'Professores do ensino pré-escolar', '2351': 'Especialistas em métodos pedagógicos', '2352': 'Educadores para necessidades especiais', '2353': 'Outros professores de idiomas', '2354': 'Outros professores de música', '2355': 'Outros professores de artes', '2356': 'Instrutores em tecnologias da informação', '2359': 'Profissionais de ensino não classificados anteriormente', '2411': 'Contadores', '2412': 'Assessores financeiros e em investimentos', '2413': 'Analistas financeiros', '2421': 'Analistas de gestão e administração', '2422': 'Especialistas em políticas de administração', '2423': 'Especialistas em políticas e serviços de pessoal e afins', '2424': 'Especialistas em formação de pessoal', '2431': 'Profissionais da publicidade e da comercialização', '2432': 'Profissionais de relações públicas', '2433': 'Profissionais de vendas técnicas e médicas (exclusive tic)', '2434': 'Profissionais de vendas de tecnologia da informação e comunicações', '2511': 'Analistas de sistemas', '2512': 'Desenvolvedores de programas e aplicativos (software) ', '2513': 'Desenvolvedores de páginas de internet (web) e multimídia', '2514': 'Programadores de aplicações', '2519': 'Desenvolvedores e analistas de programas e aplicativos (software) e multimídia não classificados anteriormente', '2521': 'Desenhistas e administradores de bases de dados', '2522': 'Administradores de sistemas', '2523': 'Profissionais em rede de computadores', '2529': 'Especialistas em base de dados e em redes de computadores não classificados anteriormente', '2611': 'Advogados e juristas', '2612': 'Juízes', '2619': 'Profissionais em direito não classificados anteriormente', '2621': 'Arquivologistas e curadores de museus', '2622': 'Bibliotecários, documentaristas e afins', '2631': 'Economistas', '2632': 'Sociólogos, antropólogos e afins', '2633': 'Filósofos, historiadores e especialistas em ciência política', '2634': 'Psicólogos', '2635': 'Assistentes sociais', '2636': 'Ministros de cultos religiosos, missionários e afins', '2641': 'Escritores', '2642': 'Jornalistas', '2643': 'Tradutores, intérpretes e linguistas', '2651': 'Artistas plásticos', '2652': 'Músicos, cantores e compositores', '2653': 'Bailarinos e coreógrafos', '2654': 'Diretores de cinema, de teatro e afins', '2655': 'Atores', '2656': 'Locutores de rádio, televisão e outros meios de comunicação', '2659': 'Artistas criativos e interpretativos não classificados anteriormente', '3111': 'Técnicos em ciências físicas e químicas', '3112': 'Técnicos em engenharia civil', '3113': 'Eletrotécnicos', '3114': 'Técnicos em eletrônica', '3115': 'Técnicos em engenharia mecânica', '3116': 'Técnicos em química industrial', '3117': 'Técnicos em engenharia de minas e metalurgia', '3118': 'Desenhistas e projetistas técnicos', '3119': 'Técnicos em ciências físicas e da engenharia não classificados anteriormente', '3121': 'Supervisores da mineração', '3122': 'Supervisores de indústrias de transformação', '3123': 'Supervisores da construção', '3131': 'Operadores de instalações de produção de energia', '3132': 'Operadores de incineradores, instalações de tratamento de água e afins', '3133': 'Controladores de instalações de processamento de produtos químicos', '3134': 'Operadores de instalações de refino de petróleo e gás natural', '3135': 'Controladores de processos de produção de metais', '3139': 'Técnicos em controle de processos não classificados anteriormente', '3141': 'Técnicos e profissionais de nível médio em ciências biológicas (exclusive da medicina)', '3142': 'Técnicos agropecuários', '3143': 'Técnicos florestais', '3151': 'Oficiais maquinistas em navegação', '3152': 'Capitães, oficiais de coberta e práticos', '3153': 'Pilotos de aviação e afins', '3154': 'Controladores de tráfego aéreo', '3155': 'Técnicos em segurança aeronáutica', '3211': 'Técnicos em aparelhos de diagnóstico e tratamento médico', '3212': 'Técnicos de laboratórios médicos', '3213': 'Técnicos e assistentes farmacêuticos', '3214': 'Técnicos de próteses médicas e dentárias', '3221': 'Profissionais de nível médio de enfermagem ', '3222': 'Profissionais de nível médio de partos', '3230': 'Profissionais de nível médio de medicina tradicional e alternativa', '3240': 'Técnicos e assistentes veterinários', '3251': 'Dentistas auxiliares e ajudantes de odontologia', '3252': 'Técnicos em documentação sanitária', '3253': 'Trabalhadores comunitários da saúde', '3254': 'Técnicos em optometria e ópticos', '3255': 'Técnicos e assistentes fisioterapeutas', '3256': ' assistentes de medicina', '3257': 'Inspetores de saúde laboral, ambiental e afins', '3258': 'Ajudantes de ambulâncias', '3259': 'Profissionais de nível médio da saúde não classificados anteriormente ', '3311': 'Agentes e corretores de bolsa, câmbio e outros serviços financeiros', '3312': 'Agentes de empréstimos e financiamento', '3313': 'Contabilistas e guarda livros', '3314': 'Profissionais de nível médio de serviços estatísticos, matemáticos e afins', '3315': 'Avaliadores', '3321': 'Agentes de seguros', '3322': 'Representantes comerciais', '3323': 'Agentes de compras', '3324': 'Corretores de comercialização', '3331': 'Despachantes aduaneiros', '3332': 'Organizadores de conferências e eventos', '3333': 'Agentes de emprego e agenciadores de mão de obra', '3334': 'Agentes imobiliários', '3339': 'Agentes de serviços comerciais não classificados anteriormente', '3341': 'Supervisores de secretaria', '3342': 'Secretários jurídicos', '3343': 'Secretários executivos e administrativos', '3344': 'Secretários de medicina', '3351': 'Agentes aduaneiros e inspetores de fronteiras', '3352': 'Agentes da administração tributária', '3353': 'Agentes de serviços de seguridade social', '3354': 'Agentes de serviços de expedição de licenças e permissões', '3355': 'Inspetores de polícia e detetives', '3359': 'Agentes da administração pública para aplicação da lei e afins não classificados anteriormente', '3411': 'Profissionais de nível médio do direito e serviços legais e afins', '3412': 'Trabalhadores e assistentes sociais de nível médio', '3413': 'Auxiliares leigos de religião', '3421': 'Atletas e esportistas', '3422': 'Treinadores, instrutores e árbitros de atividades esportivas', '3423': 'Instrutores de educação física e atividades recreativas', '3431': 'Fotógrafos', '3432': 'Desenhistas e decoradores de interiores', '3433': 'Técnicos em galerias de arte, museus e bibliotecas', '3434': 'Chefes de cozinha', '3435': 'Outros profissionais de nível médio em atividades culturais e artísticas', '3511': 'Técnicos em operações de tecnologia da informação e das comunicações ', '3512': 'Técnicos em assistência ao usuário de tecnologia da informação e das comunicações', '3513': 'Técnicos de redes e sistemas de computadores', '3514': 'Técnicos da web', '3521': 'Técnicos de radiodifusão e gravação audiovisual', '3522': 'Técnicos de engenharia de telecomunicações', '4110': 'Escriturários gerais', '4120': 'Secretários (geral)', '4131': 'Operadores de máquinas de processamento de texto e mecanógrafos', '4132': 'Operadores de entrada de dados', '4211': 'Caixas de banco e afins', '4212': 'Coletores de apostas e de jogos', '4213': 'Trabalhadores em escritórios de empréstimos e penhor', '4214': 'Cobradores e afins', '4221': 'Trabalhadores de agências de viagem', '4222': 'Trabalhadores de centrais de atendimento', '4223': 'Telefonistas', '4224': 'Recepcionistas de hotéis', '4225': 'Trabalhadores dos serviços de informações', '4226': 'Recepcionistas em geral', '4227': 'Entrevistadores de pesquisas de mercado', '4229': 'Trabalhadores de serviços de informação ao cliente não classificados anteriormente', '4311': 'Trabalhadores de contabilidade e cálculo de custos', '4312': 'Trabalhadores de serviços estatísticos, financeiros e de seguros', '4313': 'Trabalhadores encarregados de folha de pagamento', '4321': 'Trabalhadores de controle de abastecimento e estoques', '4322': 'Trabalhadores de serviços de apoio à produção', '4323': 'Trabalhadores de serviços de transporte', '4411': 'Trabalhadores de bibliotecas', '4412': 'Trabalhadores de serviços de correios', '4413': 'Codificadores de dados, revisores de provas de impressão e afins', '4414': 'Outros escreventes', '4415': 'Trabalhadores de arquivos', '4416': 'Trabalhadores do serviço de pessoal', '4419': 'Trabalhadores de apoio administrativo não classificados anteriormente', '5111': 'Auxiliares de serviço de bordo', '5112': 'Fiscais e cobradores de transportes públicos', '5113': 'Guias de turismo', '5120': 'Cozinheiros', '5131': 'Garçons ', '5132': ' atendentes de bar', '5141': 'Cabeleireiros', '5142': 'Especialistas em tratamento de beleza e afins', '5151': 'Supervisores de manutenção e limpeza de edifícios em escritórios, hotéis e estabelecimentos', '5152': 'Governantas e mordomos domésticos ', '5153': 'Porteiros e zeladores', '5161': 'Astrólogos, adivinhos e afins', '5162': 'Acompanhantes e criados particulares', '5163': 'Trabalhadores de funerárias e embalsamadores', '5164': 'Cuidadores de animais', '5165': 'Instrutores de autoescola', '5168': 'Trabalhadores do sexo', '5169': 'Trabalhadores de serviços pessoais não classificados anteriormente', '5211': 'Vendedores de quiosques e postos de mercados', '5212': 'Vendedores ambulantes de serviços de alimentação', '5221': 'Comerciantes de lojas', '5222': 'Supervisores de lojas', '5223': 'Balconistas e vendedores de lojas', '5230': 'Caixas e expedidores de bilhetes', '5241': 'Modelos de moda, arte e publicidade', '5242': 'Demonstradores de lojas', '5243': 'Vendedores a domicilio', '5244': 'Vendedores por telefone', '5245': 'Frentistas de posto de gasolina', '5246': 'Balconistas dos serviços de alimentação', '5249': 'Vendedores não classificados anteriormente', '5311': 'Cuidadores de crianças ', '5312': 'Ajudantes de professores', '5321': 'Trabalhadores de cuidados pessoais em instituições', '5322': 'Trabalhadores de cuidados pessoais a domicílios', '5329': 'Trabalhadores de cuidados pessoais nos serviços de saúde não classificados anteriormente', '5411': 'Bombeiros', '5412': 'Policiais', '5413': 'Guardiões de presídios', '5414': 'Guardas de segurança', '5419': 'Trabalhadores dos serviços de proteção e segurança não classificados anteriormente', '6111': 'Agricultores e trabalhadores qualificados em atividades da agricultura (exclusive hortas, viveiros e jardins)', '6112': 'Agricultores e trabalhadores qualificados no cultivo de hortas, viveiros e jardins', '6114': 'Agricultores e trabalhadores qualificados de cultivos mistos', '6121': 'Criadores de gado e trabalhadores qualificados da criação de gado', '6122': 'Avicultores e trabalhadores qualificados da avicultura', '6123': 'Apicultores, sericicultores e trabalhadores qualificados da apicultura e sericicultura', '6129': 'Outros criadores e trabalhadores qualificados da pecuária não classificados anteriormente', '6130': 'Produtores e trabalhadores qualificados de exploração agropecuária mista ', '6210': 'Trabalhadores florestais qualificados e afins', '6221': 'Trabalhadores da aquicultura', '6224': 'Caçadores', '6225': 'Pescadores', '7111': 'Construtores de casas', '7112': 'Pedreiros', '7113': 'Canteiros, cortadores e gravadores de pedras', '7114': 'Trabalhadores em cimento e concreto armado', '7115': 'Carpinteiros', '7119': 'Outros trabalhadores qualificados e operários da construção não classificados anteriormente', '7121': 'Telhadores', '7122': 'Aplicadores de revestimentos cerâmicos, pastilhas, pedras e madeiras', '7123': 'Gesseiros', '7124': 'Instaladores de material isolante térmico e acústico', '7125': 'Vidraceiros', '7126': 'Bombeiros e encanadores', '7127': 'Mecânicos-instaladores de sistemas de refrigeração e climatização', '7131': 'Pintores e empapeladores', '7132': 'Lustradores', '7133': 'Limpadores de fachadas ', '7211': 'Moldadores de metal e macheiros', '7212': 'Soldadores e oxicortadores', '7213': 'Chapistas e caldeireiros', '7214': 'Montadores de estruturas metálicas', '7215': 'Aparelhadores e emendadores de cabos', '7221': 'Ferreiros e forjadores', '7222': 'Ferramenteiros e afins', '7223': 'Reguladores e operadores de máquinas-ferramentas', '7224': 'Polidores de metais e afiadores de ferramentas', '7231': 'Mecânicos e reparadores de veículos a motor', '7232': 'Mecânicos e reparadores de motores de avião', '7233': 'Mecânicos e reparadores de máquinas agrícolas e industriais', '7234': 'Reparadores de bicicletas e afins', '7311': 'Mecânicos e reparadores de instrumentos de precisão', '7312': 'Confeccionadores e afinadores de instrumentos musicais', '7313': 'Joalheiros e lapidadores de gemas, artesãos de metais preciosos e semipreciosos ', '7314': 'Ceramistas e afins (preparação e fabricação)', '7315': 'Cortadores, polidores, jateadores e gravadores de vidros e afins ', '7316': 'Redatores de cartazes, pintores decorativos e gravadores ', '7317': 'Artesãos de pedra, madeira, vime e materiais semelhantes', '7318': 'Artesãos de tecidos, couros e materiais semelhantes', '7319': 'Artesãos não classificados anteriormente', '7321': 'Trabalhadores da pré-impressão gráfica ', '7322': 'Impressores', '7323': 'Encadernadores e afins', '7411': 'Eletricistas de obras e afins', '7412': 'Mecânicos e ajustadores eletricistas', '7413': 'Instaladores e reparadores de linhas elétricas', '7421': 'Mecânicos e reparadores em eletrônica', '7422': 'Instaladores e reparadores em tecnologias da informação e comunicações', '7511': 'Magarefes e afins ', '7512': 'Padeiros, confeiteiros e afins ', '7513': 'Trabalhadores da pasteurização do leite e fabricação de laticínios e afins ', '7514': 'Trabalhadores da conservação de frutas, legumes e similares ', '7515': 'Trabalhadores da degustação e classificação de alimentos e bebidas', '7516': 'Trabalhadores qualificados da preparação do fumo e seus produtos ', '7521': 'Trabalhadores de tratamento e preparação da madeira ', '7522': 'Marceneiros e afins ', '7523': 'Operadores de máquinas de lavrar madeira ', '7531': 'Alfaiates, modistas, chapeleiros e peleteiros', '7532': 'Trabalhadores qualificados da preparação da confecção de roupas', '7533': 'Costureiros, bordadeiros e afins', '7534': 'Tapeceiros, colchoeiros e afins', '7535': 'Trabalhadores qualificados do tratamento de couros e peles', '7536': 'Sapateiros e afins', '7541': 'Trabalhadores subaquáticos ', '7542': 'Dinamitadores e detonadores', '7543': 'Classificadores e provadores de produtos (exceto de bebidas e alimentos)', '7544': 'Fumigadores e outros controladores de pragas e ervas daninhas', '7549': 'Outros trabalhadores qualificados e operários da indústria e do artesanato não classificados anteriormente', '8111': 'Mineiros e operadores de máquinas e de instalações em minas e pedreiras', '8112': 'Operadores de instalações de processamento de minerais e rochas', '8113': 'Perfuradores e sondadores de poços e afins ', '8114': 'Operadores de máquinas para fabricar cimento, pedras e outros produtos minerais', '8121': 'Operadores de instalações de processamento de metais', '8122': 'Operadores de máquinas polidoras, galvanizadoras e recobridoras de metais', '8131': 'Operadores de instalações e máquinas de produtos químicos ', '8132': 'Operadores de máquinas para fabricar produtos fotográficos ', '8141': 'Operadores de máquinas para fabricar produtos de borracha', '8142': 'Operadores de máquinas para fabricar produtos de material plástico', '8143': 'Operadores de máquinas para fabricar produtos de papel ', '8151': 'Operadores de máquinas de preparação de fibras, fiação e bobinamento de fios', '8152': 'Operadores de teares e outras máquinas de tecelagem', '8153': 'Operadores de máquinas de costura', '8154': 'Operadores de máquinas de branqueamento, tingimento e limpeza de tecidos', '8155': 'Operadores de máquinas de processamento de couros e peles', '8156': 'Operadores de máquinas para fabricação de calçados e afins', '8157': 'Operadores de máquinas de lavar, tingir e passar roupas', '8159': 'Operadores de máquinas para fabricar produtos têxteis e artigos de couro e pele não classificados anteriormente', '8160': 'Operadores de máquinas para elaborar alimentos e produtos afins', '8171': 'Operadores de instalações para a preparação de pasta de papel e papel', '8172': 'Operadores de instalações para processamento de madeira', '8181': 'Operadores de instalações de vidraria e cerâmica   ', '8182': 'Operadores de máquinas de vapor e caldeiras', '8183': 'Operadores de máquinas de embalagem, engarrafamento e etiquetagem', '8189': 'Operadores de máquinas e de instalações fixas não classificados anteriormente', '8211': 'Mecânicos montadores de maquinaria mecânica', '8212': 'Montadores de equipamentos elétricos e eletrônicos', '8219': 'Montadores não classificados anteriormente', '8311': 'Maquinistas de locomotivas ', '8312': 'Guarda-freios e agentes de manobras', '8321': 'Condutores de motocicletas', '8322': 'Condutores de automóveis, taxis e caminhonetes', '8331': 'Condutores de ônibus e bondes', '8332': 'Condutores de caminhões pesados', '8341': 'Operadores de máquinas agrícolas e florestais móveis', '8342': 'Operadores de máquinas de movimentação de terras e afins', '8343': 'Operadores de guindastes, gruas, aparatos de elevação e afins', '8344': 'Operadores de empilhadeiras', '8350': 'Marinheiros de coberta e afins', '9111': 'Trabalhadores dos serviços domésticos em geral ', '9112': 'Trabalhadores de limpeza de interior de edifícios, escritórios, hotéis e outros estabelecimentos', '9121': 'Lavadeiros de roupas e passadeiros manuais', '9122': 'Lavadores de veículos', '9123': 'Limpadores de janelas', '9129': 'Outros trabalhadores de limpeza', '9211': 'Trabalhadores elementares da agricultura ', '9212': 'Trabalhadores elementares da pecuária ', '9213': 'Trabalhadores elementares da agropecuária', '9214': 'Trabalhadores elementares da jardinagem e horticultura ', '9215': 'Trabalhadores florestais elementares', '9216': 'Trabalhadores elementares da pesca e aquicultura ', '9311': 'Trabalhadores elementares de minas e pedreiras ', '9312': 'Trabalhadores elementares de obras públicas e da manutenção de estradas, represas e similares', '9313': 'Trabalhadores elementares da construção de edifícios', '9321': ' empacotadores manuais', '9329': 'Trabalhadores elementares da indústria de transformação não classificados anteriormente', '9331': 'Condutores de veículos acionados a pedal ou a braços', '9332': 'Condutores de veículos e máquinas de tração animal', '9333': 'Carregadores', '9334': 'Repositores de prateleiras', '9411': 'Preparadores de comidas rápidas', '9412': 'Ajudantes de cozinha', '9510': 'Trabalhadores ambulantes dos serviços e afins', '9520': 'Vendedores ambulantes (exclusive de serviços de alimentação)', '9611': 'Coletores de lixo e material reciclável', '9612': 'Classificadores de resíduos', '9613': 'Varredores e afins', '9621': 'Mensageiros, carregadores de bagagens e entregadores de encomendas', '9622': 'Pessoas que realizam várias tarefas', '9623': 'Coletores de dinheiro em máquinas automáticas de venda e leitores de medidores', '9624': 'Carregadores de água e coletores de lenha', '9629': 'Outras ocupações elementares não classificadas anteriormente', '110': 'Oficiais das forças armadas', '210': 'Graduados e praças das forças armadas', '411': 'Oficiais de polícia militar', '412': 'Graduados e praças da polícia militar', '511': 'Oficiais de bombeiro militar', '512': 'Graduados e praças do corpo de bombeiros'}\n"
     ]
    }
   ],
   "source": [
    "#Código da ocupação (cargo ou função)\n",
    "\n",
    "\n",
    "df_cod_ocupa = pd.read_excel('/Users/joao.gaspar/Desktop/Trabalho PNAD/COD_OCUPA.xlsx')\n",
    "\n",
    "df_cod_ocupa['CODE'] = df_cod_ocupa['CODE'].astype(str)\n",
    "df_cod_ocupa['NAME'] = df_cod_ocupa['NAME'].astype(str)\n",
    "\n",
    "df_cod_ocupa = df_cod_ocupa.set_index('CODE')['NAME'].to_dict()\n",
    "\n",
    "# Imprimir o dicionário\n",
    "print(\"df_cod_ocupa = \",df_cod_ocupa)"
   ]
  },
  {
   "cell_type": "code",
   "execution_count": 23,
   "metadata": {},
   "outputs": [
    {
     "name": "stdout",
     "output_type": "stream",
     "text": [
      "0           Trabalhadores elementares de minas e pedreiras \n",
      "1                                             Não aplicável\n",
      "2               Profissionais de nível médio de enfermagem \n",
      "3                                             Não aplicável\n",
      "4                                             Não aplicável\n",
      "                                ...                        \n",
      "474570    Dirigentes de administração e de serviços não ...\n",
      "474571                                Analistas financeiros\n",
      "474572                            Representantes comerciais\n",
      "474573                          Professores do ensino médio\n",
      "474574                                        Não aplicável\n",
      "Name: V4010, Length: 474575, dtype: object\n"
     ]
    }
   ],
   "source": [
    "#Código da ocupação (cargo ou função)\n",
    "\n",
    "df_cod_ocupa =  {\n",
    "    '1111': 'Legisladores ', '1112': 'Dirigentes superiores da administração pública', '1113': 'Chefes de pequenas populações', '1114': 'Dirigentes de organizações que apresentam um interesse especial', '1120': 'Diretores gerais e gerentes gerais', '1211': 'Dirigentes financeiros', '1212': 'Dirigentes de recursos humanos', '1213': 'Dirigentes de políticas e planejamento', '1219': 'Dirigentes de administração e de serviços não classificados anteriormente', '1221': 'Dirigentes de vendas e  comercialização ', '1222': 'Dirigentes de publicidade e relações públicas', '1223': 'Dirigentes de pesquisa e desenvolvimento', '1311': 'Dirigentes de produção agropecuária e silvicultura', '1312': 'Dirigentes de produção da aquicultura e pesca', '1321': 'Dirigentes de indústria de transformação', '1322': 'Dirigentes de explorações de mineração', '1323': 'Dirigentes de empresas de construção', '1324': 'Dirigentes de empresas de abastecimento, distribuição e afins', '1330': 'Dirigentes de serviços de tecnologia da informação e comunicações', '1341': 'Dirigentes de serviços de cuidados infantis', '1342': 'Dirigentes de serviços de saúde', '1343': 'Dirigentes de serviços de cuidado a pessoas idosas', '1344': 'Dirigentes de serviços de bem-estar social', '1345': 'Dirigentes de serviços de educação', '1346': 'Gerentes de sucursais de bancos, de serviços financeiros e de seguros', '1349': 'Dirigentes e gerentes de serviços profissionais não classificados anteriormente', '1411': 'Gerentes de hotéis', '1412': 'Gerentes de restaurantes', '1420': 'Gerentes de comércios atacadistas e varejistas', '1431': 'Gerentes de centros esportivos,  de diversão e culturais', '1439': 'Gerentes de serviços não classificados anteriormente', '2111': 'Físicos e astrônomos', '2112': 'Meteorologistas', '2113': 'Químicos', '2114': 'Geólogos e geofísicos', '2120': 'Matemáticos, atuários e estatísticos', '2131': 'Biólogos, botânicos, zoólogos e afins', '2132': 'Agrônomos e afins', '2133': 'Profissionais da proteção do meio ambiente', '2141': 'Engenheiros industriais e de produção', '2142': 'Engenheiros civis ', '2143': 'Engenheiros de meio ambiente', '2144': 'Engenheiros mecânicos', '2145': 'Engenheiros químicos', '2146': 'Engenheiros de minas, metalúrgicos e afins', '2149': 'Engenheiros não classificados anteriormente', '2151': 'Engenheiros eletricistas', '2152': 'Engenheiros eletrônicos', '2153': 'Engenheiros em telecomunicações', '2161': 'Arquitetos de edificações', '2162': 'Arquitetos paisagistas', '2163': 'Desenhistas de produtos e  vestuário', '2164': 'Urbanistas e engenheiros de trânsito', '2165': 'Cartógrafos e agrimensores', '2166': 'Desenhistas gráficos e de multimídia', '2211': 'Médicos gerais', '2212': 'Médicos especialistas', '2221': 'Profissionais de enfermagem ', '2222': 'Profissionais de partos  ', '2230': 'Profissionais da medicina tradicional e alternativa', '2240': 'Paramédicos', '2250': 'Veterinários', '2261': 'Dentistas', '2262': 'Farmacêuticos', '2263': 'Profissionais da saúde e da higiene laboral e ambiental', '2264': 'Fisioterapeutas', '2265': 'Dietistas e nutricionistas', '2266': 'Fonoaudiólogos e logopedistas', '2267': 'Optometristas', '2269': 'Profissionais da saúde não classificados anteriormente', '2310': 'Professores de universidades e do ensino superior', '2320': 'Professores de formação profissional', '2330': 'Professores do ensino médio', '2341': 'Professores do ensino fundamental', '2342': 'Professores do ensino pré-escolar', '2351': 'Especialistas em métodos pedagógicos', '2352': 'Educadores para necessidades especiais', '2353': 'Outros professores de idiomas', '2354': 'Outros professores de música', '2355': 'Outros professores de artes', '2356': 'Instrutores em tecnologias da informação', '2359': 'Profissionais de ensino não classificados anteriormente', '2411': 'Contadores', '2412': 'Assessores financeiros e em investimentos', '2413': 'Analistas financeiros', '2421': 'Analistas de gestão e administração', '2422': 'Especialistas em políticas de administração', '2423': 'Especialistas em políticas e serviços de pessoal e afins', '2424': 'Especialistas em formação de pessoal', '2431': 'Profissionais da publicidade e da comercialização', '2432': 'Profissionais de relações públicas', '2433': 'Profissionais de vendas técnicas e médicas (exclusive tic)', '2434': 'Profissionais de vendas de tecnologia da informação e comunicações', '2511': 'Analistas de sistemas', '2512': 'Desenvolvedores de programas e aplicativos (software) ', '2513': 'Desenvolvedores de páginas de internet (web) e multimídia', '2514': 'Programadores de aplicações', '2519': 'Desenvolvedores e analistas de programas e aplicativos (software) e multimídia não classificados anteriormente', '2521': 'Desenhistas e administradores de bases de dados', '2522': 'Administradores de sistemas', '2523': 'Profissionais em rede de computadores', '2529': 'Especialistas em base de dados e em redes de computadores não classificados anteriormente', '2611': 'Advogados e juristas', '2612': 'Juízes', '2619': 'Profissionais em direito não classificados anteriormente', '2621': 'Arquivologistas e curadores de museus', '2622': 'Bibliotecários, documentaristas e afins', '2631': 'Economistas', '2632': 'Sociólogos, antropólogos e afins', '2633': 'Filósofos, historiadores e especialistas em ciência política', '2634': 'Psicólogos', '2635': 'Assistentes sociais', '2636': 'Ministros de cultos religiosos, missionários e afins', '2641': 'Escritores', '2642': 'Jornalistas', '2643': 'Tradutores, intérpretes e linguistas', '2651': 'Artistas plásticos', '2652': 'Músicos, cantores e compositores', '2653': 'Bailarinos e coreógrafos', '2654': 'Diretores de cinema, de teatro e afins', '2655': 'Atores', '2656': 'Locutores de rádio, televisão e outros meios de comunicação', '2659': 'Artistas criativos e interpretativos não classificados anteriormente', '3111': 'Técnicos em ciências físicas e químicas', '3112': 'Técnicos em engenharia civil', '3113': 'Eletrotécnicos', '3114': 'Técnicos em eletrônica', '3115': 'Técnicos em engenharia mecânica', '3116': 'Técnicos em química industrial', '3117': 'Técnicos em engenharia de minas e metalurgia', '3118': 'Desenhistas e projetistas técnicos', '3119': 'Técnicos em ciências físicas e da engenharia não classificados anteriormente', '3121': 'Supervisores da mineração', '3122': 'Supervisores de indústrias de transformação', '3123': 'Supervisores da construção', '3131': 'Operadores de instalações de produção de energia', '3132': 'Operadores de incineradores, instalações de tratamento de água e afins', '3133': 'Controladores de instalações de processamento de produtos químicos', '3134': 'Operadores de instalações de refino de petróleo e gás natural', '3135': 'Controladores de processos de produção de metais', '3139': 'Técnicos em controle de processos não classificados anteriormente', '3141': 'Técnicos e profissionais de nível médio em ciências biológicas (exclusive da medicina)', '3142': 'Técnicos agropecuários', '3143': 'Técnicos florestais', '3151': 'Oficiais maquinistas em navegação', '3152': 'Capitães, oficiais de coberta e práticos', '3153': 'Pilotos de aviação e afins', '3154': 'Controladores de tráfego aéreo', '3155': 'Técnicos em segurança aeronáutica', '3211': 'Técnicos em aparelhos de diagnóstico e tratamento médico', '3212': 'Técnicos de laboratórios médicos', '3213': 'Técnicos e assistentes farmacêuticos', '3214': 'Técnicos de próteses médicas e dentárias', '3221': 'Profissionais de nível médio de enfermagem ', '3222': 'Profissionais de nível médio de partos', '3230': 'Profissionais de nível médio de medicina tradicional e alternativa', '3240': 'Técnicos e assistentes veterinários', '3251': 'Dentistas auxiliares e ajudantes de odontologia', '3252': 'Técnicos em documentação sanitária', '3253': 'Trabalhadores comunitários da saúde', '3254': 'Técnicos em optometria e ópticos', '3255': 'Técnicos e assistentes fisioterapeutas', '3256': ' assistentes de medicina', '3257': 'Inspetores de saúde laboral, ambiental e afins', '3258': 'Ajudantes de ambulâncias', '3259': 'Profissionais de nível médio da saúde não classificados anteriormente ', '3311': 'Agentes e corretores de bolsa, câmbio e outros serviços financeiros', '3312': 'Agentes de empréstimos e financiamento', '3313': 'Contabilistas e guarda livros', '3314': 'Profissionais de nível médio de serviços estatísticos, matemáticos e afins', '3315': 'Avaliadores', '3321': 'Agentes de seguros', '3322': 'Representantes comerciais', '3323': 'Agentes de compras', '3324': 'Corretores de comercialização', '3331': 'Despachantes aduaneiros', '3332': 'Organizadores de conferências e eventos', '3333': 'Agentes de emprego e agenciadores de mão de obra', '3334': 'Agentes imobiliários', '3339': 'Agentes de serviços comerciais não classificados anteriormente', '3341': 'Supervisores de secretaria', '3342': 'Secretários jurídicos', '3343': 'Secretários executivos e administrativos', '3344': 'Secretários de medicina', '3351': 'Agentes aduaneiros e inspetores de fronteiras', '3352': 'Agentes da administração tributária', '3353': 'Agentes de serviços de seguridade social', '3354': 'Agentes de serviços de expedição de licenças e permissões', '3355': 'Inspetores de polícia e detetives', '3359': 'Agentes da administração pública para aplicação da lei e afins não classificados anteriormente', '3411': 'Profissionais de nível médio do direito e serviços legais e afins', '3412': 'Trabalhadores e assistentes sociais de nível médio', '3413': 'Auxiliares leigos de religião', '3421': 'Atletas e esportistas', '3422': 'Treinadores, instrutores e árbitros de atividades esportivas', '3423': 'Instrutores de educação física e atividades recreativas', '3431': 'Fotógrafos', '3432': 'Desenhistas e decoradores de interiores', '3433': 'Técnicos em galerias de arte, museus e bibliotecas', '3434': 'Chefes de cozinha', '3435': 'Outros profissionais de nível médio em atividades culturais e artísticas', '3511': 'Técnicos em operações de tecnologia da informação e das comunicações ', '3512': 'Técnicos em assistência ao usuário de tecnologia da informação e das comunicações', '3513': 'Técnicos de redes e sistemas de computadores', '3514': 'Técnicos da web', '3521': 'Técnicos de radiodifusão e gravação audiovisual', '3522': 'Técnicos de engenharia de telecomunicações', '4110': 'Escriturários gerais', '4120': 'Secretários (geral)', '4131': 'Operadores de máquinas de processamento de texto e mecanógrafos', '4132': 'Operadores de entrada de dados', '4211': 'Caixas de banco e afins', '4212': 'Coletores de apostas e de jogos', '4213': 'Trabalhadores em escritórios de empréstimos e penhor', '4214': 'Cobradores e afins', '4221': 'Trabalhadores de agências de viagem', '4222': 'Trabalhadores de centrais de atendimento', '4223': 'Telefonistas', '4224': 'Recepcionistas de hotéis', '4225': 'Trabalhadores dos serviços de informações', '4226': 'Recepcionistas em geral', '4227': 'Entrevistadores de pesquisas de mercado', '4229': 'Trabalhadores de serviços de informação ao cliente não classificados anteriormente', '4311': 'Trabalhadores de contabilidade e cálculo de custos', '4312': 'Trabalhadores de serviços estatísticos, financeiros e de seguros', '4313': 'Trabalhadores encarregados de folha de pagamento', '4321': 'Trabalhadores de controle de abastecimento e estoques', '4322': 'Trabalhadores de serviços de apoio à produção', '4323': 'Trabalhadores de serviços de transporte', '4411': 'Trabalhadores de bibliotecas', '4412': 'Trabalhadores de serviços de correios', '4413': 'Codificadores de dados, revisores de provas de impressão e afins', '4414': 'Outros escreventes', '4415': 'Trabalhadores de arquivos', '4416': 'Trabalhadores do serviço de pessoal', '4419': 'Trabalhadores de apoio administrativo não classificados anteriormente', '5111': 'Auxiliares de serviço de bordo', '5112': 'Fiscais e cobradores de transportes públicos', '5113': 'Guias de turismo', '5120': 'Cozinheiros', '5131': 'Garçons ', '5132': ' atendentes de bar', '5141': 'Cabeleireiros', '5142': 'Especialistas em tratamento de beleza e afins', '5151': 'Supervisores de manutenção e limpeza de edifícios em escritórios, hotéis e estabelecimentos', '5152': 'Governantas e mordomos domésticos ', '5153': 'Porteiros e zeladores', '5161': 'Astrólogos, adivinhos e afins', '5162': 'Acompanhantes e criados particulares', '5163': 'Trabalhadores de funerárias e embalsamadores', '5164': 'Cuidadores de animais', '5165': 'Instrutores de autoescola', '5168': 'Trabalhadores do sexo', '5169': 'Trabalhadores de serviços pessoais não classificados anteriormente', '5211': 'Vendedores de quiosques e postos de mercados', '5212': 'Vendedores ambulantes de serviços de alimentação', '5221': 'Comerciantes de lojas', '5222': 'Supervisores de lojas', '5223': 'Balconistas e vendedores de lojas', '5230': 'Caixas e expedidores de bilhetes', '5241': 'Modelos de moda, arte e publicidade', '5242': 'Demonstradores de lojas', '5243': 'Vendedores a domicilio', '5244': 'Vendedores por telefone', '5245': 'Frentistas de posto de gasolina', '5246': 'Balconistas dos serviços de alimentação', '5249': 'Vendedores não classificados anteriormente', '5311': 'Cuidadores de crianças ', '5312': 'Ajudantes de professores', '5321': 'Trabalhadores de cuidados pessoais em instituições', '5322': 'Trabalhadores de cuidados pessoais a domicílios', '5329': 'Trabalhadores de cuidados pessoais nos serviços de saúde não classificados anteriormente', '5411': 'Bombeiros', '5412': 'Policiais', '5413': 'Guardiões de presídios', '5414': 'Guardas de segurança', '5419': 'Trabalhadores dos serviços de proteção e segurança não classificados anteriormente', '6111': 'Agricultores e trabalhadores qualificados em atividades da agricultura (exclusive hortas, viveiros e jardins)', '6112': 'Agricultores e trabalhadores qualificados no cultivo de hortas, viveiros e jardins', '6114': 'Agricultores e trabalhadores qualificados de cultivos mistos', '6121': 'Criadores de gado e trabalhadores qualificados da criação de gado', '6122': 'Avicultores e trabalhadores qualificados da avicultura', '6123': 'Apicultores, sericicultores e trabalhadores qualificados da apicultura e sericicultura', '6129': 'Outros criadores e trabalhadores qualificados da pecuária não classificados anteriormente', '6130': 'Produtores e trabalhadores qualificados de exploração agropecuária mista ', '6210': 'Trabalhadores florestais qualificados e afins', '6221': 'Trabalhadores da aquicultura', '6224': 'Caçadores', '6225': 'Pescadores', '7111': 'Construtores de casas', '7112': 'Pedreiros', '7113': 'Canteiros, cortadores e gravadores de pedras', '7114': 'Trabalhadores em cimento e concreto armado', '7115': 'Carpinteiros', '7119': 'Outros trabalhadores qualificados e operários da construção não classificados anteriormente', '7121': 'Telhadores', '7122': 'Aplicadores de revestimentos cerâmicos, pastilhas, pedras e madeiras', '7123': 'Gesseiros', '7124': 'Instaladores de material isolante térmico e acústico', '7125': 'Vidraceiros', '7126': 'Bombeiros e encanadores', '7127': 'Mecânicos-instaladores de sistemas de refrigeração e climatização', '7131': 'Pintores e empapeladores', '7132': 'Lustradores', '7133': 'Limpadores de fachadas ', '7211': 'Moldadores de metal e macheiros', '7212': 'Soldadores e oxicortadores', '7213': 'Chapistas e caldeireiros', '7214': 'Montadores de estruturas metálicas', '7215': 'Aparelhadores e emendadores de cabos', '7221': 'Ferreiros e forjadores', '7222': 'Ferramenteiros e afins', '7223': 'Reguladores e operadores de máquinas-ferramentas', '7224': 'Polidores de metais e afiadores de ferramentas', '7231': 'Mecânicos e reparadores de veículos a motor', '7232': 'Mecânicos e reparadores de motores de avião', '7233': 'Mecânicos e reparadores de máquinas agrícolas e industriais', '7234': 'Reparadores de bicicletas e afins', '7311': 'Mecânicos e reparadores de instrumentos de precisão', '7312': 'Confeccionadores e afinadores de instrumentos musicais', '7313': 'Joalheiros e lapidadores de gemas, artesãos de metais preciosos e semipreciosos ', '7314': 'Ceramistas e afins (preparação e fabricação)', '7315': 'Cortadores, polidores, jateadores e gravadores de vidros e afins ', '7316': 'Redatores de cartazes, pintores decorativos e gravadores ', '7317': 'Artesãos de pedra, madeira, vime e materiais semelhantes', '7318': 'Artesãos de tecidos, couros e materiais semelhantes', '7319': 'Artesãos não classificados anteriormente', '7321': 'Trabalhadores da pré-impressão gráfica ', '7322': 'Impressores', '7323': 'Encadernadores e afins', '7411': 'Eletricistas de obras e afins', '7412': 'Mecânicos e ajustadores eletricistas', '7413': 'Instaladores e reparadores de linhas elétricas', '7421': 'Mecânicos e reparadores em eletrônica', '7422': 'Instaladores e reparadores em tecnologias da informação e comunicações', '7511': 'Magarefes e afins ', '7512': 'Padeiros, confeiteiros e afins ', '7513': 'Trabalhadores da pasteurização do leite e fabricação de laticínios e afins ', '7514': 'Trabalhadores da conservação de frutas, legumes e similares ', '7515': 'Trabalhadores da degustação e classificação de alimentos e bebidas', '7516': 'Trabalhadores qualificados da preparação do fumo e seus produtos ', '7521': 'Trabalhadores de tratamento e preparação da madeira ', '7522': 'Marceneiros e afins ', '7523': 'Operadores de máquinas de lavrar madeira ', '7531': 'Alfaiates, modistas, chapeleiros e peleteiros', '7532': 'Trabalhadores qualificados da preparação da confecção de roupas', '7533': 'Costureiros, bordadeiros e afins', '7534': 'Tapeceiros, colchoeiros e afins', '7535': 'Trabalhadores qualificados do tratamento de couros e peles', '7536': 'Sapateiros e afins', '7541': 'Trabalhadores subaquáticos ', '7542': 'Dinamitadores e detonadores', '7543': 'Classificadores e provadores de produtos (exceto de bebidas e alimentos)', '7544': 'Fumigadores e outros controladores de pragas e ervas daninhas', '7549': 'Outros trabalhadores qualificados e operários da indústria e do artesanato não classificados anteriormente', '8111': 'Mineiros e operadores de máquinas e de instalações em minas e pedreiras', '8112': 'Operadores de instalações de processamento de minerais e rochas', '8113': 'Perfuradores e sondadores de poços e afins ', '8114': 'Operadores de máquinas para fabricar cimento, pedras e outros produtos minerais', '8121': 'Operadores de instalações de processamento de metais', '8122': 'Operadores de máquinas polidoras, galvanizadoras e recobridoras de metais', '8131': 'Operadores de instalações e máquinas de produtos químicos ', '8132': 'Operadores de máquinas para fabricar produtos fotográficos ', '8141': 'Operadores de máquinas para fabricar produtos de borracha', '8142': 'Operadores de máquinas para fabricar produtos de material plástico', '8143': 'Operadores de máquinas para fabricar produtos de papel ', '8151': 'Operadores de máquinas de preparação de fibras, fiação e bobinamento de fios', '8152': 'Operadores de teares e outras máquinas de tecelagem', '8153': 'Operadores de máquinas de costura', '8154': 'Operadores de máquinas de branqueamento, tingimento e limpeza de tecidos', '8155': 'Operadores de máquinas de processamento de couros e peles', '8156': 'Operadores de máquinas para fabricação de calçados e afins', '8157': 'Operadores de máquinas de lavar, tingir e passar roupas', '8159': 'Operadores de máquinas para fabricar produtos têxteis e artigos de couro e pele não classificados anteriormente', '8160': 'Operadores de máquinas para elaborar alimentos e produtos afins', '8171': 'Operadores de instalações para a preparação de pasta de papel e papel', '8172': 'Operadores de instalações para processamento de madeira', '8181': 'Operadores de instalações de vidraria e cerâmica   ', '8182': 'Operadores de máquinas de vapor e caldeiras', '8183': 'Operadores de máquinas de embalagem, engarrafamento e etiquetagem', '8189': 'Operadores de máquinas e de instalações fixas não classificados anteriormente', '8211': 'Mecânicos montadores de maquinaria mecânica', '8212': 'Montadores de equipamentos elétricos e eletrônicos', '8219': 'Montadores não classificados anteriormente', '8311': 'Maquinistas de locomotivas ', '8312': 'Guarda-freios e agentes de manobras', '8321': 'Condutores de motocicletas', '8322': 'Condutores de automóveis, taxis e caminhonetes', '8331': 'Condutores de ônibus e bondes', '8332': 'Condutores de caminhões pesados', '8341': 'Operadores de máquinas agrícolas e florestais móveis', '8342': 'Operadores de máquinas de movimentação de terras e afins', '8343': 'Operadores de guindastes, gruas, aparatos de elevação e afins', '8344': 'Operadores de empilhadeiras', '8350': 'Marinheiros de coberta e afins', '9111': 'Trabalhadores dos serviços domésticos em geral ', '9112': 'Trabalhadores de limpeza de interior de edifícios, escritórios, hotéis e outros estabelecimentos', '9121': 'Lavadeiros de roupas e passadeiros manuais', '9122': 'Lavadores de veículos', '9123': 'Limpadores de janelas', '9129': 'Outros trabalhadores de limpeza', '9211': 'Trabalhadores elementares da agricultura ', '9212': 'Trabalhadores elementares da pecuária ', '9213': 'Trabalhadores elementares da agropecuária', '9214': 'Trabalhadores elementares da jardinagem e horticultura ', '9215': 'Trabalhadores florestais elementares', '9216': 'Trabalhadores elementares da pesca e aquicultura ', '9311': 'Trabalhadores elementares de minas e pedreiras ', '9312': 'Trabalhadores elementares de obras públicas e da manutenção de estradas, represas e similares', '9313': 'Trabalhadores elementares da construção de edifícios', '9321': ' empacotadores manuais', '9329': 'Trabalhadores elementares da indústria de transformação não classificados anteriormente', '9331': 'Condutores de veículos acionados a pedal ou a braços', '9332': 'Condutores de veículos e máquinas de tração animal', '9333': 'Carregadores', '9334': 'Repositores de prateleiras', '9411': 'Preparadores de comidas rápidas', '9412': 'Ajudantes de cozinha', '9510': 'Trabalhadores ambulantes dos serviços e afins', '9520': 'Vendedores ambulantes (exclusive de serviços de alimentação)', '9611': 'Coletores de lixo e material reciclável', '9612': 'Classificadores de resíduos', '9613': 'Varredores e afins', '9621': 'Mensageiros, carregadores de bagagens e entregadores de encomendas', '9622': 'Pessoas que realizam várias tarefas', '9623': 'Coletores de dinheiro em máquinas automáticas de venda e leitores de medidores', '9624': 'Carregadores de água e coletores de lenha', '9629': 'Outras ocupações elementares não classificadas anteriormente', '110': 'Oficiais das forças armadas', '210': 'Graduados e praças das forças armadas', '411': 'Oficiais de polícia militar', '412': 'Graduados e praças da polícia militar', '511': 'Oficiais de bombeiro militar', '512': 'Graduados e praças do corpo de bombeiros'}\n",
    "df['V4010']=df['V4010'].map(df_cod_ocupa)\n",
    "df['V4010'].fillna('Não aplicável', inplace=True)\n",
    "print(df['V4010'])\n"
   ]
  },
  {
   "cell_type": "code",
   "execution_count": 24,
   "metadata": {},
   "outputs": [
    {
     "name": "stdout",
     "output_type": "stream",
     "text": [
      "0                                             Conta própria\n",
      "1                                             Não aplicável\n",
      "2         Empregado do setor público (inclusive empresas...\n",
      "3                                             Não aplicável\n",
      "4                                             Não aplicável\n",
      "                                ...                        \n",
      "474570                           Empregado do setor privado\n",
      "474571                           Empregado do setor privado\n",
      "474572                           Empregado do setor privado\n",
      "474573    Empregado do setor público (inclusive empresas...\n",
      "474574                                        Não aplicável\n",
      "Name: V4012, Length: 474575, dtype: object\n"
     ]
    }
   ],
   "source": [
    "#Nesse trabalho, ... era: \n",
    "\n",
    "\n",
    "V4012_map = {\n",
    "    '1':'Trabalhador doméstico',\n",
    "    '2':'Militar do exército, da marinha, da aeronáutica, da polícia militar ou do corpo de bombeiros militar',\n",
    "    '3':'Empregado do setor privado',\n",
    "    '4':'Empregado do setor público (inclusive empresas de economia mista)',\n",
    "    '5':'Empregador',\n",
    "    '6':'Conta própria',\n",
    "    '7':'Trabalhador familiar não remunerado'\n",
    "}\n",
    "\n",
    "\n",
    "df['V4012']=df['V4012'].map(V4012_map)\n",
    "df['V4012'].fillna('Não aplicável', inplace=True)\n",
    "print(df['V4012'])\n",
    "\n"
   ]
  },
  {
   "cell_type": "code",
   "execution_count": 25,
   "metadata": {},
   "outputs": [
    {
     "name": "stdout",
     "output_type": "stream",
     "text": [
      "0         Não aplicável\n",
      "1         Não aplicável\n",
      "2         Não aplicável\n",
      "3         Não aplicável\n",
      "4         Não aplicável\n",
      "              ...      \n",
      "474570    Não aplicável\n",
      "474571    Não aplicável\n",
      "474572    Não aplicável\n",
      "474573    Não aplicável\n",
      "474574    Não aplicável\n",
      "Name: V40121, Length: 474575, dtype: object\n"
     ]
    }
   ],
   "source": [
    "#Trabalhador não remunerado\n",
    "\n",
    "V40121_map = {\n",
    "    '1':'Em ajuda a conta própria ou empregador',\n",
    "    '2':'Em ajuda a empregado',\n",
    "    '3':'Em ajuda a trabalhador doméstico',\n",
    "}\n",
    "df['V40121']=df['V40121'].map(V40121_map)\n",
    "df['V40121'].fillna('Não aplicável', inplace=True)\n",
    "print(df['V40121'])"
   ]
  },
  {
   "cell_type": "code",
   "execution_count": 26,
   "metadata": {},
   "outputs": [
    {
     "name": "stdout",
     "output_type": "stream",
     "text": [
      "0         Outra atividade\n",
      "1           Não aplicável\n",
      "2         Outra atividade\n",
      "3           Não aplicável\n",
      "4           Não aplicável\n",
      "               ...       \n",
      "474570    Outra atividade\n",
      "474571    Outra atividade\n",
      "474572    Outra atividade\n",
      "474573    Outra atividade\n",
      "474574      Não aplicável\n",
      "Name: V40132A, Length: 474575, dtype: object\n"
     ]
    }
   ],
   "source": [
    "#Qual a seção da atividade?\n",
    "V40132A_map = {\n",
    "    '1':'Agricultura, pecuária silvicultura, exploração florestal, pesca ou aquicultura e atividades de apoio à agricultura, pecuária, silvicultura, exploração florestal, pesca ou aquicultura.',\n",
    "    '2':'Outra atividade'\n",
    "}\n",
    "df['V40132A']=df['V40132A'].map(V40132A_map)\n",
    "df['V40132A'].fillna('Não aplicável', inplace=True)\n",
    "print(df['V40132A'])\n"
   ]
  },
  {
   "cell_type": "code",
   "execution_count": 27,
   "metadata": {},
   "outputs": [
    {
     "name": "stdout",
     "output_type": "stream",
     "text": [
      "0         Não aplicável\n",
      "1         Não aplicável\n",
      "2              Estadual\n",
      "3         Não aplicável\n",
      "4         Não aplicável\n",
      "              ...      \n",
      "474570    Não aplicável\n",
      "474571    Não aplicável\n",
      "474572    Não aplicável\n",
      "474573         Estadual\n",
      "474574    Não aplicável\n",
      "Name: V4014, Length: 474575, dtype: object"
     ]
    },
    {
     "name": "stdout",
     "output_type": "stream",
     "text": [
      "\n"
     ]
    }
   ],
   "source": [
    "#Esse trabalho era na área:\n",
    "V4014_map = {\n",
    "    '1':'Federal',\n",
    "    '2':'Estadual',\n",
    "    '3':'Municipal'\n",
    "}\n",
    "\n",
    "df['V4014']=df['V4014'].map(V4014_map)\n",
    "df['V4014'].fillna('Não aplicável', inplace=True)\n",
    "print(df['V4014'])"
   ]
  },
  {
   "cell_type": "code",
   "execution_count": 28,
   "metadata": {},
   "outputs": [
    {
     "name": "stdout",
     "output_type": "stream",
     "text": [
      "0         Em via ou área pública (rua, rio, manguezal, m...\n",
      "1                                             Não aplicável\n",
      "2                                             Não aplicável\n",
      "3                                             Não aplicável\n",
      "4                                             Não aplicável\n",
      "                                ...                        \n",
      "474570                                        Não aplicável\n",
      "474571                                        Não aplicável\n",
      "474572                                        Não aplicável\n",
      "474573                                        Não aplicável\n",
      "474574                                        Não aplicável\n",
      "Name: V4022, Length: 474575, dtype: object\n"
     ]
    }
   ],
   "source": [
    "#Então onde ... exercia normalmente esse trabalho ?\n",
    "\n",
    "V4022_nap = {\n",
    "    '1':'Em estabelecimento de outro négocio/empresa',\n",
    "    '2':'Em local designado pelo empregador, cliente ou freguês',\n",
    "    '3':'Em domicílio de empregador, patrão, sócio ou freguês',\n",
    "    '4':'No domicílio de residência, em local exclusivo para o desempenho da atividade',\n",
    "    '5':'No domicílio de residência, sem local exclusivo para o desempenho da atividade',\n",
    "    '6':'Em veículo automotor (táxi, ônibus, caminhão, automóvel, embarcação, etc.)',\n",
    "    '7':'Em via ou área pública (rua, rio, manguezal, mata pública, praça, praia etc.)',\n",
    "    '8':'Em outro local, especifique'\n",
    "}\n",
    "\n",
    "df['V4022']=df['V4022'].map(V4022_nap)\n",
    "df['V4022'].fillna('Não aplicável', inplace=True)\n",
    "\n",
    "print(df['V4022'])"
   ]
  },
  {
   "cell_type": "code",
   "execution_count": 29,
   "metadata": {},
   "outputs": [
    {
     "name": "stdout",
     "output_type": "stream",
     "text": [
      "0         Não aplicável\n",
      "1         Não aplicável\n",
      "2         Não aplicável\n",
      "3         Não aplicável\n",
      "4         Não aplicável\n",
      "              ...      \n",
      "474570    Não aplicável\n",
      "474571    Não aplicável\n",
      "474572    Não aplicável\n",
      "474573    Não aplicável\n",
      "474574    Não aplicável\n",
      "Name: V4024, Length: 474575, dtype: object\n"
     ]
    }
   ],
   "source": [
    "#No período de ... a ... (período de referência de 30 dias) ... prestava serviço doméstico em mais de um domicílio ?\n",
    "V4024_map = {\n",
    "    '1':'Sim',\n",
    "    '2':'Não'\n",
    "}\n",
    "\n",
    "df['V4024']=df['V4024'].map(V4024_map)\n",
    "df['V4024'].fillna('Não aplicável', inplace=True)\n",
    "\t\n",
    "print(df['V4024'])\n",
    "\n",
    "\n"
   ]
  },
  {
   "cell_type": "code",
   "execution_count": 30,
   "metadata": {},
   "outputs": [
    {
     "name": "stdout",
     "output_type": "stream",
     "text": [
      "0         Não aplicável\n",
      "1         Não aplicável\n",
      "2                   Não\n",
      "3         Não aplicável\n",
      "4         Não aplicável\n",
      "              ...      \n",
      "474570              Não\n",
      "474571              Não\n",
      "474572              Não\n",
      "474573              Sim\n",
      "474574    Não aplicável\n",
      "Name: V4025, Length: 474575, dtype: object\n"
     ]
    }
   ],
   "source": [
    "#Nesse trabalho, ... era contratado(a) como empregado temporário ?\n",
    "\n",
    "V4025_map = {\n",
    "    '1':'Sim',\n",
    "    '2':'Não'\n",
    "}\n",
    "\n",
    "df['V4025']=df['V4025'].map(V4025_map)\n",
    "df['V4025'].fillna('Não aplicável', inplace=True)\n",
    "\t\n",
    "print(df['V4025'])"
   ]
  },
  {
   "cell_type": "code",
   "execution_count": 31,
   "metadata": {},
   "outputs": [
    {
     "name": "stdout",
     "output_type": "stream",
     "text": [
      "0         Não aplicável\n",
      "1         Não aplicável\n",
      "2                   Sim\n",
      "3         Não aplicável\n",
      "4         Não aplicável\n",
      "              ...      \n",
      "474570    Não aplicável\n",
      "474571    Não aplicável\n",
      "474572    Não aplicável\n",
      "474573    Não aplicável\n",
      "474574    Não aplicável\n",
      "Name: V4028, Length: 474575, dtype: object\n"
     ]
    }
   ],
   "source": [
    "#Nesse trabalho, ... era servidor público estatutário (federal, estadual ou municipal) ?\n",
    "V4028_map = {\n",
    "    '1':'Sim',\n",
    "    '2':'Não'\n",
    "}\n",
    "\n",
    "df['V4028']=df['V4028'].map(V4028_map)\n",
    "df['V4028'].fillna('Não aplicável', inplace=True)\n",
    "\t\n",
    "print(df['V4028'])\n"
   ]
  },
  {
   "cell_type": "code",
   "execution_count": 32,
   "metadata": {},
   "outputs": [
    {
     "name": "stdout",
     "output_type": "stream",
     "text": [
      "0         Não aplicável\n",
      "1         Não aplicável\n",
      "2         Não aplicável\n",
      "3         Não aplicável\n",
      "4         Não aplicável\n",
      "              ...      \n",
      "474570              Sim\n",
      "474571              Sim\n",
      "474572              Não\n",
      "474573              Sim\n",
      "474574    Não aplicável\n",
      "Name: V4029, Length: 474575, dtype: object\n"
     ]
    }
   ],
   "source": [
    "#Nesse trabalho, ... tinha carteira de trabalho assinada ?\n",
    "\n",
    "V4029_map = {\n",
    "    '1':'Sim',\n",
    "    '2':'Não'\n",
    "}\n",
    "\n",
    "df['V4029']=df['V4029'].map(V4029_map)\n",
    "df['V4029'].fillna('Não aplicável', inplace=True)\n",
    "\t\n",
    "print(df['V4029'])\n"
   ]
  },
  {
   "cell_type": "code",
   "execution_count": 33,
   "metadata": {},
   "outputs": [
    {
     "name": "stdout",
     "output_type": "stream",
     "text": [
      "0                  Em dinheiro\n",
      "1         Não ou não aplicável\n",
      "2                  Em dinheiro\n",
      "3         Não ou não aplicável\n",
      "4         Não ou não aplicável\n",
      "                  ...         \n",
      "474570             Em dinheiro\n",
      "474571             Em dinheiro\n",
      "474572             Em dinheiro\n",
      "474573             Em dinheiro\n",
      "474574    Não ou não aplicável\n",
      "Name: V40331, Length: 474575, dtype: object\n"
     ]
    }
   ],
   "source": [
    "#Recebia/fazia normalmente nesse trabalho rendimento/retirada em dinheiro?\n",
    "V40331_map = {\n",
    "    '1':'Em dinheiro'\n",
    "    }\n",
    "\n",
    "df['V40331']=df['V40331'].map(V40331_map)\n",
    "df['V40331'].fillna('Não ou não aplicável', inplace=True)\n",
    "\n",
    "print(df['V40331'])"
   ]
  },
  {
   "cell_type": "code",
   "execution_count": 34,
   "metadata": {},
   "outputs": [
    {
     "name": "stdout",
     "output_type": "stream",
     "text": [
      "0             3k+1 a 5k\n",
      "1         Não aplicável\n",
      "2             2k+1 a 3k\n",
      "3         Não aplicável\n",
      "4         Não aplicável\n",
      "              ...      \n",
      "474570       5k+1 a 10k\n",
      "474571        1k+1 a 2k\n",
      "474572        3k+1 a 5k\n",
      "474573        3k+1 a 5k\n",
      "474574    Não aplicável\n",
      "Name: V403311, Length: 474575, dtype: object\n"
     ]
    }
   ],
   "source": [
    "#Número da faixa do rendimento/retirada em dinheiro\n",
    "\n",
    "\n",
    "V403311_map = {\n",
    "    '1':'1 a 0,5k',\n",
    "    '2':'0,5 +1 a 1k',\n",
    "    '3':'1k+1 a 2k',\n",
    "    '4':'2k+1 a 3k',\n",
    "    '5':'3k+1 a 5k',\n",
    "    '6':'5k+1 a 10k',\n",
    "    '7':'10k+1 a 20k',\n",
    "    '8':'mais de 20k'\n",
    "}\n",
    "\n",
    "\n",
    "df['V403311']=df['V403311'].map(V403311_map)\n",
    "df['V403311'].fillna('Não aplicável', inplace=True)\n",
    "\n",
    "print(df['V403311'])\n"
   ]
  },
  {
   "cell_type": "code",
   "execution_count": 35,
   "metadata": {},
   "outputs": [
    {
     "name": "stdout",
     "output_type": "stream",
     "text": [
      "0          5000\n",
      "1             0\n",
      "2          3500\n",
      "3             0\n",
      "4             0\n",
      "          ...  \n",
      "474570    10000\n",
      "474571     2500\n",
      "474572     5000\n",
      "474573     5000\n",
      "474574        0\n",
      "Name: V403312, Length: 474575, dtype: int64\n"
     ]
    }
   ],
   "source": [
    "#Qual era o rendimento bruto/retirada mensal que ... recebia/fazia normalmente nesse trabalho ? (valor em dinheiro)\n",
    "\n",
    "df['V403312'] = df['V403312'].str.strip()  # Remover espaços em branco ao redor do valor\n",
    "df['V403312'] = df['V403312'].replace('', '0')  # Substituir valores vazios por zero\n",
    "df['V403312'] = df['V403312'].astype(int) \n",
    "\n",
    "print(df['V403312'])\n"
   ]
  },
  {
   "cell_type": "code",
   "execution_count": 36,
   "metadata": {},
   "outputs": [
    {
     "name": "stdout",
     "output_type": "stream",
     "text": [
      "0         Não aplicável\n",
      "1         Não aplicável\n",
      "2         Não aplicável\n",
      "3         Não aplicável\n",
      "4         Não aplicável\n",
      "              ...      \n",
      "474570    Não aplicável\n",
      "474571    Não aplicável\n",
      "474572    Não aplicável\n",
      "474573    Não aplicável\n",
      "474574    Não aplicável\n",
      "Name: V40332, Length: 474575, dtype: object\n"
     ]
    }
   ],
   "source": [
    "#Recebia/fazia normalmente nesse trabalho rendimento/retirada em produtos e mercadorias ?\n",
    "\n",
    "V40332_map = {\n",
    "    '2': 'Em produtos ou mercadorias'\n",
    "}\n",
    "\n",
    "df['V40332']=df['V40332'].map(V40332_map)\n",
    "df['V40332'].fillna('Não aplicável', inplace=True)\n",
    "\n",
    "print(df['V40332'])"
   ]
  },
  {
   "cell_type": "code",
   "execution_count": 37,
   "metadata": {},
   "outputs": [
    {
     "name": "stdout",
     "output_type": "stream",
     "text": [
      "0         Não aplicável\n",
      "1         Não aplicável\n",
      "2         Não aplicável\n",
      "3         Não aplicável\n",
      "4         Não aplicável\n",
      "              ...      \n",
      "474570    Não aplicável\n",
      "474571    Não aplicável\n",
      "474572    Não aplicável\n",
      "474573    Não aplicável\n",
      "474574    Não aplicável\n",
      "Name: V4072A, Length: 474575, dtype: object\n"
     ]
    }
   ],
   "source": [
    "#3 - Pessoas não ocupada\n",
    "#No período de ... a ... (período de referência de 30 dias), qual foi a principal providência que ... tomou para conseguir trabalho?\n",
    "\n",
    "\n",
    "V4072A_map = {\n",
    "    '1':'Entrou em contato com empregador (pessoalmente, por telefone, por email ou pelo portal da empresa, inclusive enviando currículo)',\n",
    "    '2':'Colocou ou respondeu anúncio de trabalho em jornal ou revista',\n",
    "    '3':'Consultou ou inscreveu-se em agência de emprego privada ou sindicato',\n",
    "    '4':'Consultou ou inscreveu-se em agência de emprego municipal, estadual ou no Sistema Nacional de Emprego (SINE) ',\n",
    "    '5':'Fez ou inscreveu-se em concurso ',\n",
    "    '6':'Consultou parente, amigo ou colega',\n",
    "    '7':'Tomou medida para iniciar o próprio negócio (recursos financeiros, local para instalação, equipamentos, legalização etc.) ',\n",
    "    '8':'Tomou outra providência, especifique: ',\n",
    "    '9':'Não tomou providência efetiva'\n",
    "}\n",
    "\n",
    "\n",
    "\n",
    "df['V4072A']=df['V4072A'].map(V4072A_map)\n",
    "df['V4072A'].fillna('Não aplicável', inplace=True)\n",
    "\n",
    "print(df['V4072A'])\n",
    "\n",
    "\n"
   ]
  },
  {
   "cell_type": "code",
   "execution_count": 38,
   "metadata": {},
   "outputs": [
    {
     "name": "stdout",
     "output_type": "stream",
     "text": [
      "0         Não aplicável\n",
      "1                   Não\n",
      "2         Não aplicável\n",
      "3                   Não\n",
      "4         Não aplicável\n",
      "              ...      \n",
      "474570    Não aplicável\n",
      "474571    Não aplicável\n",
      "474572    Não aplicável\n",
      "474573    Não aplicável\n",
      "474574              Não\n",
      "Name: V4073, Length: 474575, dtype: object\n"
     ]
    }
   ],
   "source": [
    "#Embora não tenha tomado providência para conseguir trabalho, gostaria de ter trabalhado na semana de ... a ... (semana de referência) ?\n",
    "\n",
    "\n",
    "V4073_map = {\n",
    "    '1':'Sim',\n",
    "    '2':'Não'\n",
    "}\n",
    "\n",
    "df['V4073']=df['V4073'].map(V4073_map)\n",
    "df['V4073'].fillna('Não aplicável', inplace=True)\n",
    "\t\n",
    "print(df['V4073'])\n",
    "\n"
   ]
  },
  {
   "cell_type": "code",
   "execution_count": 39,
   "metadata": {},
   "outputs": [
    {
     "name": "stdout",
     "output_type": "stream",
     "text": [
      "0         Não aplicável\n",
      "1         Não aplicável\n",
      "2         Não aplicável\n",
      "3         Não aplicável\n",
      "4         Não aplicável\n",
      "              ...      \n",
      "474570    Não aplicável\n",
      "474571    Não aplicável\n",
      "474572    Não aplicável\n",
      "474573    Não aplicável\n",
      "474574    Não aplicável\n",
      "Name: V4074A, Length: 474575, dtype: object\n"
     ]
    }
   ],
   "source": [
    "#Qual foi o principal motivo de ... não ter tomado providência para conseguir trabalho no período de  ... a ... (período de referência de 30 dias)?\n",
    "\n",
    "V4074A_map = {\n",
    "    '1':'Conseguiu proposta de trabalho para começar após a semana de referência ',\n",
    "    '2':'Aguardando resposta de medida tomada para conseguir trabalho',\n",
    "    '3':'Desistiu de procurar por não conseguir encontrar trabalho',\n",
    "    '4':'Acha que não vai encontrar trabalho por ser muito jovem ou muito idoso',\n",
    "    '5':'Tinha que cuidar de filho(s), de outro(s) dependente(s) ou dos afazeres domésticos',\n",
    "    '6':'Estudo',\n",
    "    '7':'Incapacidade física, mental ou doença permanente',\n",
    "    '8':'Outro motivo'\n",
    "}\n",
    "\n",
    "\n",
    "df['V4074A']=df['V4074A'].map(V4074A_map)\n",
    "df['V4074A'].fillna('Não aplicável', inplace=True)\n",
    "\t\n",
    "print(df['V4074A'])\n",
    "\n",
    "\n"
   ]
  },
  {
   "cell_type": "code",
   "execution_count": 40,
   "metadata": {},
   "outputs": [
    {
     "name": "stderr",
     "output_type": "stream",
     "text": [
      "/var/folders/s3/068gt8410vv47zflnwx3yh4r0000gq/T/ipykernel_41507/3425330536.py:3: PerformanceWarning: DataFrame is highly fragmented.  This is usually the result of calling `frame.insert` many times, which has poor performance.  Consider joining all columns at once using pd.concat(axis=1) instead. To get a de-fragmented frame, use `newframe = frame.copy()`\n",
      "  df['CHAVE'] = df['UPA'] + df['V1008'] + df['V1014']\n",
      "/var/folders/s3/068gt8410vv47zflnwx3yh4r0000gq/T/ipykernel_41507/3425330536.py:8: PerformanceWarning: DataFrame is highly fragmented.  This is usually the result of calling `frame.insert` many times, which has poor performance.  Consider joining all columns at once using pd.concat(axis=1) instead. To get a de-fragmented frame, use `newframe = frame.copy()`\n",
      "  df['CHAVE_PESSOA'] = df['UPA'] + df['V1008'] + df['V1014']+ df['V2003']\n"
     ]
    }
   ],
   "source": [
    "# A chave de domicílio é composta pelas variáveis: UPA + V1008 + V1014. \n",
    "# Além de identificar um domicílio no banco em estudo, este identificador permite que sejam realizadas análises longitudinais do domicílio. \n",
    "df['CHAVE'] = df['UPA'] + df['V1008'] + df['V1014']\n",
    "\n",
    "#A chave de pessoas é composta pelas variáveis: UPA + V1008 + V1014 + V2003. \n",
    "# Este identificador não deve ser usado para análises longitudinais, sendo apenas útil na identificação de uma pessoa no banco em estudo.  \n",
    "\n",
    "df['CHAVE_PESSOA'] = df['UPA'] + df['V1008'] + df['V1014']+ df['V2003']\n",
    "\n",
    "colunas_selecionadas = ['UF', 'V1008', 'V1014', 'V1016', 'CHAVE','CHAVE_PESSOA', 'V1022', 'V2001', 'V2005',\n",
    "                        'V2007', 'V2009', 'V2010', 'V3001', 'V3002', 'V3002A', 'V3003A', 'V4001',\n",
    "                        'V4002', 'V4003', 'V4004', 'V4005', 'V4006A', 'V4010', 'V4012', 'V40121',\n",
    "                        'V40132A', 'V4014', 'V4022', 'V4024', 'V4025', 'V4028', 'V4029', 'V40331',\n",
    "                        'V403311', 'V403312', 'V40332', 'V4072A', 'V4073','V4074A']\n",
    "\n",
    "df_selecionado = df[colunas_selecionadas]\n",
    "#df_selecionado.head(20)\n"
   ]
  },
  {
   "cell_type": "code",
   "execution_count": 41,
   "metadata": {},
   "outputs": [],
   "source": [
    "df_selecionado.to_csv('dados_selecionados-app1.csv', index=False)\n"
   ]
  },
  {
   "cell_type": "code",
   "execution_count": 42,
   "metadata": {},
   "outputs": [
    {
     "data": {
      "text/html": [
       "<div>\n",
       "<style scoped>\n",
       "    .dataframe tbody tr th:only-of-type {\n",
       "        vertical-align: middle;\n",
       "    }\n",
       "\n",
       "    .dataframe tbody tr th {\n",
       "        vertical-align: top;\n",
       "    }\n",
       "\n",
       "    .dataframe thead th {\n",
       "        text-align: right;\n",
       "    }\n",
       "</style>\n",
       "<table border=\"1\" class=\"dataframe\">\n",
       "  <thead>\n",
       "    <tr style=\"text-align: right;\">\n",
       "      <th></th>\n",
       "      <th>UF</th>\n",
       "      <th>V1008</th>\n",
       "      <th>V1014</th>\n",
       "      <th>V1016</th>\n",
       "      <th>CHAVE</th>\n",
       "      <th>CHAVE_PESSOA</th>\n",
       "      <th>V1022</th>\n",
       "      <th>V2001</th>\n",
       "      <th>V2005</th>\n",
       "      <th>V2007</th>\n",
       "      <th>...</th>\n",
       "      <th>V4025</th>\n",
       "      <th>V4028</th>\n",
       "      <th>V4029</th>\n",
       "      <th>V40331</th>\n",
       "      <th>V403311</th>\n",
       "      <th>V403312</th>\n",
       "      <th>V40332</th>\n",
       "      <th>V4072A</th>\n",
       "      <th>V4073</th>\n",
       "      <th>V4074A</th>\n",
       "    </tr>\n",
       "  </thead>\n",
       "  <tbody>\n",
       "    <tr>\n",
       "      <th>0</th>\n",
       "      <td>Rondônia</td>\n",
       "      <td>01</td>\n",
       "      <td>10</td>\n",
       "      <td>3</td>\n",
       "      <td>1100000160110</td>\n",
       "      <td>110000016011001</td>\n",
       "      <td>Urbana</td>\n",
       "      <td>02</td>\n",
       "      <td>Pessoa responsável</td>\n",
       "      <td>Homem</td>\n",
       "      <td>...</td>\n",
       "      <td>Não aplicável</td>\n",
       "      <td>Não aplicável</td>\n",
       "      <td>Não aplicável</td>\n",
       "      <td>Em dinheiro</td>\n",
       "      <td>3k+1 a 5k</td>\n",
       "      <td>5000</td>\n",
       "      <td>Não aplicável</td>\n",
       "      <td>Não aplicável</td>\n",
       "      <td>Não aplicável</td>\n",
       "      <td>Não aplicável</td>\n",
       "    </tr>\n",
       "    <tr>\n",
       "      <th>1</th>\n",
       "      <td>Rondônia</td>\n",
       "      <td>01</td>\n",
       "      <td>10</td>\n",
       "      <td>3</td>\n",
       "      <td>1100000160110</td>\n",
       "      <td>110000016011002</td>\n",
       "      <td>Urbana</td>\n",
       "      <td>02</td>\n",
       "      <td>Cônjuge ou companheiro(a)</td>\n",
       "      <td>Mulher</td>\n",
       "      <td>...</td>\n",
       "      <td>Não aplicável</td>\n",
       "      <td>Não aplicável</td>\n",
       "      <td>Não aplicável</td>\n",
       "      <td>Não ou não aplicável</td>\n",
       "      <td>Não aplicável</td>\n",
       "      <td>0</td>\n",
       "      <td>Não aplicável</td>\n",
       "      <td>Não aplicável</td>\n",
       "      <td>Não</td>\n",
       "      <td>Não aplicável</td>\n",
       "    </tr>\n",
       "    <tr>\n",
       "      <th>2</th>\n",
       "      <td>Rondônia</td>\n",
       "      <td>02</td>\n",
       "      <td>10</td>\n",
       "      <td>3</td>\n",
       "      <td>1100000160210</td>\n",
       "      <td>110000016021001</td>\n",
       "      <td>Urbana</td>\n",
       "      <td>01</td>\n",
       "      <td>Pessoa responsável</td>\n",
       "      <td>Mulher</td>\n",
       "      <td>...</td>\n",
       "      <td>Não</td>\n",
       "      <td>Sim</td>\n",
       "      <td>Não aplicável</td>\n",
       "      <td>Em dinheiro</td>\n",
       "      <td>2k+1 a 3k</td>\n",
       "      <td>3500</td>\n",
       "      <td>Não aplicável</td>\n",
       "      <td>Não aplicável</td>\n",
       "      <td>Não aplicável</td>\n",
       "      <td>Não aplicável</td>\n",
       "    </tr>\n",
       "    <tr>\n",
       "      <th>3</th>\n",
       "      <td>Rondônia</td>\n",
       "      <td>03</td>\n",
       "      <td>10</td>\n",
       "      <td>3</td>\n",
       "      <td>1100000160310</td>\n",
       "      <td>110000016031001</td>\n",
       "      <td>Urbana</td>\n",
       "      <td>02</td>\n",
       "      <td>Pessoa responsável</td>\n",
       "      <td>Mulher</td>\n",
       "      <td>...</td>\n",
       "      <td>Não aplicável</td>\n",
       "      <td>Não aplicável</td>\n",
       "      <td>Não aplicável</td>\n",
       "      <td>Não ou não aplicável</td>\n",
       "      <td>Não aplicável</td>\n",
       "      <td>0</td>\n",
       "      <td>Não aplicável</td>\n",
       "      <td>Não aplicável</td>\n",
       "      <td>Não</td>\n",
       "      <td>Não aplicável</td>\n",
       "    </tr>\n",
       "    <tr>\n",
       "      <th>4</th>\n",
       "      <td>Rondônia</td>\n",
       "      <td>03</td>\n",
       "      <td>10</td>\n",
       "      <td>3</td>\n",
       "      <td>1100000160310</td>\n",
       "      <td>110000016031002</td>\n",
       "      <td>Urbana</td>\n",
       "      <td>02</td>\n",
       "      <td>Filho(a)</td>\n",
       "      <td>Mulher</td>\n",
       "      <td>...</td>\n",
       "      <td>Não aplicável</td>\n",
       "      <td>Não aplicável</td>\n",
       "      <td>Não aplicável</td>\n",
       "      <td>Não ou não aplicável</td>\n",
       "      <td>Não aplicável</td>\n",
       "      <td>0</td>\n",
       "      <td>Não aplicável</td>\n",
       "      <td>Não aplicável</td>\n",
       "      <td>Não aplicável</td>\n",
       "      <td>Não aplicável</td>\n",
       "    </tr>\n",
       "  </tbody>\n",
       "</table>\n",
       "<p>5 rows × 39 columns</p>\n",
       "</div>"
      ],
      "text/plain": [
       "         UF V1008 V1014 V1016          CHAVE     CHAVE_PESSOA   V1022 V2001  \\\n",
       "0  Rondônia    01    10     3  1100000160110  110000016011001  Urbana    02   \n",
       "1  Rondônia    01    10     3  1100000160110  110000016011002  Urbana    02   \n",
       "2  Rondônia    02    10     3  1100000160210  110000016021001  Urbana    01   \n",
       "3  Rondônia    03    10     3  1100000160310  110000016031001  Urbana    02   \n",
       "4  Rondônia    03    10     3  1100000160310  110000016031002  Urbana    02   \n",
       "\n",
       "                       V2005   V2007  ...          V4025          V4028  \\\n",
       "0         Pessoa responsável   Homem  ...  Não aplicável  Não aplicável   \n",
       "1  Cônjuge ou companheiro(a)  Mulher  ...  Não aplicável  Não aplicável   \n",
       "2         Pessoa responsável  Mulher  ...            Não            Sim   \n",
       "3         Pessoa responsável  Mulher  ...  Não aplicável  Não aplicável   \n",
       "4                   Filho(a)  Mulher  ...  Não aplicável  Não aplicável   \n",
       "\n",
       "           V4029                V40331        V403311 V403312         V40332  \\\n",
       "0  Não aplicável           Em dinheiro      3k+1 a 5k    5000  Não aplicável   \n",
       "1  Não aplicável  Não ou não aplicável  Não aplicável       0  Não aplicável   \n",
       "2  Não aplicável           Em dinheiro      2k+1 a 3k    3500  Não aplicável   \n",
       "3  Não aplicável  Não ou não aplicável  Não aplicável       0  Não aplicável   \n",
       "4  Não aplicável  Não ou não aplicável  Não aplicável       0  Não aplicável   \n",
       "\n",
       "          V4072A          V4073         V4074A  \n",
       "0  Não aplicável  Não aplicável  Não aplicável  \n",
       "1  Não aplicável            Não  Não aplicável  \n",
       "2  Não aplicável  Não aplicável  Não aplicável  \n",
       "3  Não aplicável            Não  Não aplicável  \n",
       "4  Não aplicável  Não aplicável  Não aplicável  \n",
       "\n",
       "[5 rows x 39 columns]"
      ]
     },
     "execution_count": 42,
     "metadata": {},
     "output_type": "execute_result"
    }
   ],
   "source": [
    "df_selecionado.head()"
   ]
  },
  {
   "cell_type": "code",
   "execution_count": 43,
   "metadata": {},
   "outputs": [
    {
     "name": "stdout",
     "output_type": "stream",
     "text": [
      "    Ano Trimestre        UF Capital RM_RIDE        UPA  Estrato V1008 V1014  \\\n",
      "0  2023         2  Rondônia      11          110000016  1110011    01    10   \n",
      "1  2023         2  Rondônia      11          110000016  1110011    01    10   \n",
      "2  2023         2  Rondônia      11          110000016  1110011    02    10   \n",
      "3  2023         2  Rondônia      11          110000016  1110011    03    10   \n",
      "4  2023         2  Rondônia      11          110000016  1110011    03    10   \n",
      "\n",
      "  V1016  ...         V1028193         V1028194         V1028195  \\\n",
      "0     3  ...  000239.07843594  000508.79158695  000000.00000000   \n",
      "1     3  ...  000239.07843594  000508.79158695  000000.00000000   \n",
      "2     3  ...  000108.97978118  000230.95826142  000000.00000000   \n",
      "3     3  ...  000229.96996309  000498.76101706  000000.00000000   \n",
      "4     3  ...  000229.96996309  000498.76101706  000000.00000000   \n",
      "\n",
      "          V1028196         V1028197         V1028198         V1028199  \\\n",
      "0  000000.00000000  000515.06146298  000000.00000000  000000.00000000   \n",
      "1  000000.00000000  000515.06146298  000000.00000000  000000.00000000   \n",
      "2  000000.00000000  000248.37824456  000000.00000000  000000.00000000   \n",
      "3  000000.00000000  000532.51127602  000000.00000000  000000.00000000   \n",
      "4  000000.00000000  000532.51127602  000000.00000000  000000.00000000   \n",
      "\n",
      "          V1028200          CHAVE     CHAVE_PESSOA  \n",
      "0  000225.17814264  1100000160110  110000016011001  \n",
      "1  000225.17814264  1100000160110  110000016011002  \n",
      "2  000111.05151352  1100000160210  110000016021001  \n",
      "3  000229.26131145  1100000160310  110000016031001  \n",
      "4  000229.26131145  1100000160310  110000016031002  \n",
      "\n",
      "[5 rows x 422 columns]\n"
     ]
    }
   ],
   "source": [
    "print(df.head())"
   ]
  }
 ],
 "metadata": {
  "kernelspec": {
   "display_name": "Python 3",
   "language": "python",
   "name": "python3"
  },
  "language_info": {
   "codemirror_mode": {
    "name": "ipython",
    "version": 3
   },
   "file_extension": ".py",
   "mimetype": "text/x-python",
   "name": "python",
   "nbconvert_exporter": "python",
   "pygments_lexer": "ipython3",
   "version": "3.11.4"
  }
 },
 "nbformat": 4,
 "nbformat_minor": 2
}
