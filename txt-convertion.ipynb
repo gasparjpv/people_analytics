{
 "cells": [
  {
   "cell_type": "code",
   "execution_count": 2,
   "metadata": {},
   "outputs": [],
   "source": [
    "import sqlite3\n",
    "import pandas as pd\n",
    "\n",
    "# Nome do arquivo de texto que você deseja ler\n",
    "caminho_arquivo_texto = 'PNADC_022023.txt'\n",
    "\n",
    "# Nome do banco de dados SQLite\n",
    "nome_banco_de_dados = 'pnad.db'\n",
    "\n",
    "# Nome da tabela no banco de dados\n",
    "nome_tabela = 'pnad'\n",
    "\n",
    "# Conecte-se ao banco de dados (ou crie-o se não existir)\n",
    "conn = sqlite3.connect(nome_banco_de_dados)\n",
    "cursor = conn.cursor()\n",
    "\n",
    "# Crie uma tabela no banco de dados com uma coluna para os dados do arquivo de texto\n",
    "cursor.execute(f'''\n",
    "    CREATE TABLE IF NOT EXISTS {nome_tabela} (\n",
    "        coluna_texto TEXT\n",
    "    )\n",
    "''')\n",
    "\n",
    "# Abra o arquivo de texto e leia todo o seu conteúdo\n",
    "with open(caminho_arquivo_texto, 'r') as arquivo_texto:\n",
    "    linhas = arquivo_texto.readlines()\n",
    "\n",
    "# Divida as linhas em partes menores (por exemplo, 1000 caracteres por parte)\n",
    "partes = [''.join(linhas[i:i+1000]) for i in range(0, len(linhas), 1000)]\n",
    "\n",
    "# Insira cada parte na tabela\n",
    "for parte in partes:\n",
    "    cursor.execute(f'INSERT INTO {nome_tabela} (coluna_texto) VALUES (?)', (parte,))\n",
    "\n",
    "# Commit das alterações\n",
    "conn.commit()\n",
    "\n",
    "# Feche a conexão com o banco de dados\n",
    "conn.close()\n",
    "\n",
    "# Crie um DataFrame com uma única coluna chamada \"conteudo\"\n",
    "df_conteudo = pd.DataFrame({'conteudo': linhas})\n"
   ]
  },
  {
   "cell_type": "code",
   "execution_count": 7,
   "metadata": {},
   "outputs": [
    {
     "name": "stdout",
     "output_type": "stream",
     "text": [
      "                                                 conteudo\n",
      "474574  202325353  53006088053101111411111000293.67656...\n"
     ]
    }
   ],
   "source": [
    "#print(df_conteudo.head(20))\n",
    "print(df_conteudo.tail(1))"
   ]
  },
  {
   "cell_type": "code",
   "execution_count": null,
   "metadata": {},
   "outputs": [],
   "source": [
    "# Criação da base separada em função do index, que contem o mapa do tamanho das variaveis e seu nome \n",
    "\n",
    "# Subida do index que mapea os dados do pnad\n",
    "df_index = pd.read_excel('index.xlsx')\n",
    "df_index = pd.DataFrame(df_index)\n",
    "\n",
    "# Crie um novo DataFrame para armazenar os resultados\n",
    "df_resultado = pd.DataFrame()\n",
    "\n",
    "# Itere pelo df_index\n",
    "for _, row in df_index.iterrows():\n",
    "    posicao = row['Position']\n",
    "    tamanho = row['Size']\n",
    "    variavel = row['Variables']\n",
    "    \n",
    "    # Use as informações de posição e tamanho para dividir a string em novas colunas\n",
    "    df_conteudo[variavel] = df_conteudo['conteudo'].str.slice(posicao - 1, posicao - 1 + tamanho)\n",
    "\n",
    "# Remova a coluna 'conteudo' se necessário\n",
    "df_resultado = df_conteudo.drop(columns=['conteudo'])"
   ]
  },
  {
   "cell_type": "code",
   "execution_count": 9,
   "metadata": {},
   "outputs": [],
   "source": [
    "# Salve o DataFrame df_dividido em um arquivo csv\n",
    "df_resultado.to_csv('pnead_dividido2.csv', index=False)"
   ]
  }
 ],
 "metadata": {
  "kernelspec": {
   "display_name": "Python 3",
   "language": "python",
   "name": "python3"
  },
  "language_info": {
   "codemirror_mode": {
    "name": "ipython",
    "version": 3
   },
   "file_extension": ".py",
   "mimetype": "text/x-python",
   "name": "python",
   "nbconvert_exporter": "python",
   "pygments_lexer": "ipython3",
   "version": "3.11.4"
  },
  "orig_nbformat": 4
 },
 "nbformat": 4,
 "nbformat_minor": 2
}
